{
 "cells": [
  {
   "cell_type": "markdown",
   "id": "d2c74686",
   "metadata": {},
   "source": [
    "# Common Errors: Fall 2023"
   ]
  },
  {
   "cell_type": "markdown",
   "id": "ccabc571",
   "metadata": {},
   "source": [
    " ## 1. Putting an = sign between a function name and parentheses"
   ]
  },
  {
   "cell_type": "markdown",
   "id": "abd41c8a",
   "metadata": {},
   "source": [
    "In both function definitions and function calls, the function name should be followed immediately by the parentheses. Depending on the situation, you may get a syntax error, or it may compile and just not work as expected:"
   ]
  },
  {
   "cell_type": "code",
   "execution_count": 3,
   "id": "e68c7dc5",
   "metadata": {},
   "outputs": [
    {
     "ename": "TypeError",
     "evalue": "'str' object is not callable",
     "output_type": "error",
     "traceback": [
      "\u001b[0;31m---------------------------------------------------------------------------\u001b[0m",
      "\u001b[0;31mTypeError\u001b[0m                                 Traceback (most recent call last)",
      "Cell \u001b[0;32mIn [3], line 3\u001b[0m\n\u001b[1;32m      1\u001b[0m \u001b[38;5;66;03m# Example 1\u001b[39;00m\n\u001b[1;32m      2\u001b[0m \u001b[38;5;28mprint\u001b[39m \u001b[38;5;241m=\u001b[39m (\u001b[38;5;124m\"\u001b[39m\u001b[38;5;124mHello, World\u001b[39m\u001b[38;5;124m\"\u001b[39m)\n\u001b[0;32m----> 3\u001b[0m \u001b[38;5;28;43mprint\u001b[39;49m\u001b[43m(\u001b[49m\u001b[38;5;124;43m\"\u001b[39;49m\u001b[38;5;124;43mHello, World\u001b[39;49m\u001b[38;5;124;43m\"\u001b[39;49m\u001b[43m)\u001b[49m\n",
      "\u001b[0;31mTypeError\u001b[0m: 'str' object is not callable"
     ]
    }
   ],
   "source": [
    "# Example 1\n",
    "print = (\"Hello, World\")\n",
    "print(\"Hello, World\")"
   ]
  },
  {
   "cell_type": "markdown",
   "id": "be13e23b",
   "metadata": {},
   "source": [
    "In the example above, we get an error in line 3 when we try to call the print function correctly. Really, this issue came from line 2: since we put an = sign between print and (\"Hello, World\"), Python thought we were trying to create a new variable named *print* with the value \"Hello, World\" (a string). Therefore, we have essentially redefined print to be a string, so that when we get to line 3 the usual identity of print as a built-in function that prints things has been overwritten! Python says in this error: I don't know how to \"call\" a string, I can only call functions."
   ]
  },
  {
   "cell_type": "code",
   "execution_count": 2,
   "id": "47953e1d",
   "metadata": {},
   "outputs": [
    {
     "ename": "TypeError",
     "evalue": "float() takes no keyword arguments",
     "output_type": "error",
     "traceback": [
      "\u001b[0;31m---------------------------------------------------------------------------\u001b[0m",
      "\u001b[0;31mTypeError\u001b[0m                                 Traceback (most recent call last)",
      "Cell \u001b[0;32mIn [2], line 2\u001b[0m\n\u001b[1;32m      1\u001b[0m \u001b[38;5;66;03m# Example 2\u001b[39;00m\n\u001b[0;32m----> 2\u001b[0m price \u001b[38;5;241m=\u001b[39m \u001b[38;5;28;43mfloat\u001b[39;49m\u001b[43m(\u001b[49m\u001b[38;5;28;43minput\u001b[39;49m\u001b[43m \u001b[49m\u001b[38;5;241;43m=\u001b[39;49m\u001b[43m \u001b[49m\u001b[43m(\u001b[49m\u001b[38;5;124;43m\"\u001b[39;49m\u001b[38;5;124;43mEnter price: \u001b[39;49m\u001b[38;5;124;43m\"\u001b[39;49m\u001b[43m)\u001b[49m\u001b[43m)\u001b[49m\n",
      "\u001b[0;31mTypeError\u001b[0m: float() takes no keyword arguments"
     ]
    }
   ],
   "source": [
    "# Example 2\n",
    "price = float(input = (\"Enter price: \"))"
   ]
  },
  {
   "cell_type": "markdown",
   "id": "78b54af7",
   "metadata": {},
   "source": [
    "In this second example, the error is telling us that we have given an invalid argument to the float function. Type conversion functions like float(), int(), and str() expect one value -- or an expression that evaluates to one value -- to be given as an argument which can be converted to this type. The correct syntax for examples like the second one above is as follows:"
   ]
  },
  {
   "cell_type": "code",
   "execution_count": 1,
   "id": "09a25e20",
   "metadata": {},
   "outputs": [
    {
     "name": "stdout",
     "output_type": "stream",
     "text": [
      "Enter price: 7.86\n"
     ]
    }
   ],
   "source": [
    "# Example 2 Solution\n",
    "price = float(input(\"Enter price: \"))"
   ]
  },
  {
   "cell_type": "markdown",
   "id": "76a4b617",
   "metadata": {},
   "source": [
    " ## 2. Invalid Naming"
   ]
  },
  {
   "cell_type": "markdown",
   "id": "cc005295",
   "metadata": {},
   "source": [
    "Review the rules listed in Chapter 1 for naming variables, parameters, and functions. For example: a name can’t start with a number, and can only include letters, numbers, or underscores (that means no spaces!)."
   ]
  },
  {
   "cell_type": "code",
   "execution_count": 3,
   "id": "07bb60da",
   "metadata": {},
   "outputs": [
    {
     "ename": "SyntaxError",
     "evalue": "invalid syntax (1014192811.py, line 1)",
     "output_type": "error",
     "traceback": [
      "\u001b[0;36m  Cell \u001b[0;32mIn [3], line 1\u001b[0;36m\u001b[0m\n\u001b[0;31m    1number = 8\u001b[0m\n\u001b[0m     ^\u001b[0m\n\u001b[0;31mSyntaxError\u001b[0m\u001b[0;31m:\u001b[0m invalid syntax\n"
     ]
    }
   ],
   "source": [
    "1number = 8"
   ]
  },
  {
   "cell_type": "code",
   "execution_count": 4,
   "id": "455eb4a8",
   "metadata": {},
   "outputs": [
    {
     "ename": "SyntaxError",
     "evalue": "invalid syntax (219051246.py, line 1)",
     "output_type": "error",
     "traceback": [
      "\u001b[0;36m  Cell \u001b[0;32mIn [4], line 1\u001b[0;36m\u001b[0m\n\u001b[0;31m    my number = 8\u001b[0m\n\u001b[0m       ^\u001b[0m\n\u001b[0;31mSyntaxError\u001b[0m\u001b[0;31m:\u001b[0m invalid syntax\n"
     ]
    }
   ],
   "source": [
    "my number = 8"
   ]
  },
  {
   "cell_type": "markdown",
   "id": "8052740a",
   "metadata": {},
   "source": [
    "These first two are more straightforward -- numbers can't begin variable names, and we can't have spaces."
   ]
  },
  {
   "cell_type": "code",
   "execution_count": 27,
   "id": "8eaf2c10",
   "metadata": {},
   "outputs": [
    {
     "ename": "SyntaxError",
     "evalue": "cannot assign to operator (2243359596.py, line 1)",
     "output_type": "error",
     "traceback": [
      "\u001b[0;36m  Cell \u001b[0;32mIn [27], line 1\u001b[0;36m\u001b[0m\n\u001b[0;31m    my-number = 8\u001b[0m\n\u001b[0m    ^\u001b[0m\n\u001b[0;31mSyntaxError\u001b[0m\u001b[0;31m:\u001b[0m cannot assign to operator\n"
     ]
    }
   ],
   "source": [
    "my-number = 8"
   ]
  },
  {
   "cell_type": "code",
   "execution_count": 5,
   "id": "325aa2b0",
   "metadata": {},
   "outputs": [
    {
     "ename": "SyntaxError",
     "evalue": "cannot assign to operator (997710516.py, line 1)",
     "output_type": "error",
     "traceback": [
      "\u001b[0;36m  Cell \u001b[0;32mIn [5], line 1\u001b[0;36m\u001b[0m\n\u001b[0;31m    number1&number2 = 81\u001b[0m\n\u001b[0m    ^\u001b[0m\n\u001b[0;31mSyntaxError\u001b[0m\u001b[0;31m:\u001b[0m cannot assign to operator\n"
     ]
    }
   ],
   "source": [
    "number1&number2 = 81"
   ]
  },
  {
   "cell_type": "markdown",
   "id": "350e0d9c",
   "metadata": {},
   "source": [
    "In these last two example where we tried to include the - or & symbols as part of our variable names, we get an error that says we can't assign this value to an operator. This is because the & means something specific in boolean logic (Chapter 5), and makes number1&number2 an expression. Similarly, in the example prior, Python thinks we are talking about an expression subtracting my-number. In short, we can't use any operators (mathematical or boolean) in our naming."
   ]
  },
  {
   "cell_type": "markdown",
   "id": "ea0373d2",
   "metadata": {},
   "source": [
    "## 3. Parentheses in the Wrong Place or Missing in Function Call"
   ]
  },
  {
   "cell_type": "markdown",
   "id": "e41aee41",
   "metadata": {},
   "source": [
    "Function names should be followed immediately by the parentheses with any arguments (if needed) inside. Remember that type conversions (using str(), float(), and int()) are function calls too, and work the same way!"
   ]
  },
  {
   "cell_type": "code",
   "execution_count": 7,
   "id": "234640e9",
   "metadata": {},
   "outputs": [
    {
     "ename": "SyntaxError",
     "evalue": "invalid syntax (2152883771.py, line 2)",
     "output_type": "error",
     "traceback": [
      "\u001b[0;36m  Cell \u001b[0;32mIn [7], line 2\u001b[0;36m\u001b[0m\n\u001b[0;31m    age = (int) input(\"Enter age: \")\u001b[0m\n\u001b[0m                ^\u001b[0m\n\u001b[0;31mSyntaxError\u001b[0m\u001b[0;31m:\u001b[0m invalid syntax\n"
     ]
    }
   ],
   "source": [
    "# Example 1\n",
    "age = (int) input(\"Enter age: \")"
   ]
  },
  {
   "cell_type": "code",
   "execution_count": 8,
   "id": "59471852",
   "metadata": {},
   "outputs": [
    {
     "name": "stdout",
     "output_type": "stream",
     "text": [
      "Enter age: 93\n"
     ]
    }
   ],
   "source": [
    "# Example 1 solution\n",
    "age = int(input(\"Enter age: \"))"
   ]
  },
  {
   "cell_type": "code",
   "execution_count": 10,
   "id": "5cf87ada",
   "metadata": {},
   "outputs": [
    {
     "name": "stdout",
     "output_type": "stream",
     "text": [
      "Age: \n",
      "Enter age: 56\n"
     ]
    },
    {
     "ename": "TypeError",
     "evalue": "unsupported operand type(s) for +: 'NoneType' and 'str'",
     "output_type": "error",
     "traceback": [
      "\u001b[0;31m---------------------------------------------------------------------------\u001b[0m",
      "\u001b[0;31mTypeError\u001b[0m                                 Traceback (most recent call last)",
      "Cell \u001b[0;32mIn [10], line 2\u001b[0m\n\u001b[1;32m      1\u001b[0m \u001b[38;5;66;03m# Example 2\u001b[39;00m\n\u001b[0;32m----> 2\u001b[0m \u001b[38;5;28;43mprint\u001b[39;49m\u001b[43m(\u001b[49m\u001b[38;5;124;43m\"\u001b[39;49m\u001b[38;5;124;43mAge: \u001b[39;49m\u001b[38;5;124;43m\"\u001b[39;49m\u001b[43m)\u001b[49m\u001b[43m \u001b[49m\u001b[38;5;241;43m+\u001b[39;49m\u001b[43m \u001b[49m\u001b[38;5;28;43minput\u001b[39;49m\u001b[43m(\u001b[49m\u001b[38;5;124;43m\"\u001b[39;49m\u001b[38;5;124;43mEnter age: \u001b[39;49m\u001b[38;5;124;43m\"\u001b[39;49m\u001b[43m)\u001b[49m\n",
      "\u001b[0;31mTypeError\u001b[0m: unsupported operand type(s) for +: 'NoneType' and 'str'"
     ]
    }
   ],
   "source": [
    "# Example 2\n",
    "print(\"Age: \") + input(\"Enter age: \")"
   ]
  },
  {
   "cell_type": "markdown",
   "id": "0a54b76b",
   "metadata": {},
   "source": [
    "In this second example, Python thinks we were trying to add together two values: the result of calling print(\"Age: \"), which would be of type \"NoneType\" since print returns None, and a string -- the resulting value from input(\"Enter age: \"). Really, we were just trying to print these two things together:"
   ]
  },
  {
   "cell_type": "code",
   "execution_count": 11,
   "id": "91128efe",
   "metadata": {},
   "outputs": [
    {
     "name": "stdout",
     "output_type": "stream",
     "text": [
      "Enter age: 56\n",
      "Age: 56\n"
     ]
    }
   ],
   "source": [
    "# Example 2 solution\n",
    "print(\"Age: \" + input(\"Enter age: \"))"
   ]
  },
  {
   "cell_type": "markdown",
   "id": "89379e12",
   "metadata": {},
   "source": [
    "In this last example below, we get a really clear error message if we don't put parentheses at all after the function name in a function call. In addition, the error message even gives us the fix. How nice!"
   ]
  },
  {
   "cell_type": "code",
   "execution_count": 5,
   "id": "82da6882",
   "metadata": {},
   "outputs": [
    {
     "ename": "SyntaxError",
     "evalue": "Missing parentheses in call to 'print'. Did you mean print(\"Age: 56\")? (1945326512.py, line 2)",
     "output_type": "error",
     "traceback": [
      "\u001b[0;36m  Cell \u001b[0;32mIn [5], line 2\u001b[0;36m\u001b[0m\n\u001b[0;31m    print \"Age: 56\"\u001b[0m\n\u001b[0m          ^\u001b[0m\n\u001b[0;31mSyntaxError\u001b[0m\u001b[0;31m:\u001b[0m Missing parentheses in call to 'print'. Did you mean print(\"Age: 56\")?\n"
     ]
    }
   ],
   "source": [
    "# Example 3\n",
    "print \"Age: 56\""
   ]
  },
  {
   "cell_type": "code",
   "execution_count": 6,
   "id": "5025555b",
   "metadata": {},
   "outputs": [
    {
     "name": "stdout",
     "output_type": "stream",
     "text": [
      "Age: 56\n"
     ]
    }
   ],
   "source": [
    "# Example 3\n",
    "print(\"Age: 56\")"
   ]
  },
  {
   "cell_type": "markdown",
   "id": "5969620a",
   "metadata": {},
   "source": [
    "## 4. Unmatched Parentheses or Quotations"
   ]
  },
  {
   "cell_type": "markdown",
   "id": "d78469b5",
   "metadata": {},
   "source": [
    "If there is an extra parenthesis or quotation mark somewhere, we'll get an error that says there is a parenthesis that doesn't have a match (i.e., Unmatched ')'). Just like in math, parentheses must come in pairs."
   ]
  },
  {
   "cell_type": "code",
   "execution_count": 15,
   "id": "6ad2937c",
   "metadata": {},
   "outputs": [
    {
     "ename": "SyntaxError",
     "evalue": "unmatched ')' (368227878.py, line 2)",
     "output_type": "error",
     "traceback": [
      "\u001b[0;36m  Cell \u001b[0;32mIn [15], line 2\u001b[0;36m\u001b[0m\n\u001b[0;31m    x = (6+8) / 4)\u001b[0m\n\u001b[0m                 ^\u001b[0m\n\u001b[0;31mSyntaxError\u001b[0m\u001b[0;31m:\u001b[0m unmatched ')'\n"
     ]
    }
   ],
   "source": [
    "# Example 1\n",
    "x = (6+8) / 4)"
   ]
  },
  {
   "cell_type": "markdown",
   "id": "c5af3d13",
   "metadata": {},
   "source": [
    "If the extra parenthesis is a ')' like in the example above, we will get the \"Unmatched ')'\" error saying that there is a ) who doesn't correspond to any ( earlier on in the expression."
   ]
  },
  {
   "cell_type": "code",
   "execution_count": 9,
   "id": "a01f953d",
   "metadata": {},
   "outputs": [
    {
     "ename": "SyntaxError",
     "evalue": "invalid syntax (2734284848.py, line 3)",
     "output_type": "error",
     "traceback": [
      "\u001b[0;36m  Cell \u001b[0;32mIn [9], line 3\u001b[0;36m\u001b[0m\n\u001b[0;31m    y = 8\u001b[0m\n\u001b[0m    ^\u001b[0m\n\u001b[0;31mSyntaxError\u001b[0m\u001b[0;31m:\u001b[0m invalid syntax\n"
     ]
    }
   ],
   "source": [
    "# Example 3\n",
    "x = (\"a\" + \"b\"\n",
    "y = 8"
   ]
  },
  {
   "cell_type": "markdown",
   "id": "4d5df38f",
   "metadata": {},
   "source": [
    "If the extra parenthesis is a '(' with no corresponding ')' later in the expression, the error will occur once it reaches the start of the next line without having found a matching closing parenthesis."
   ]
  },
  {
   "cell_type": "code",
   "execution_count": 10,
   "id": "40149cab",
   "metadata": {},
   "outputs": [
    {
     "ename": "SyntaxError",
     "evalue": "unexpected EOF while parsing (3346975007.py, line 2)",
     "output_type": "error",
     "traceback": [
      "\u001b[0;36m  Cell \u001b[0;32mIn [10], line 2\u001b[0;36m\u001b[0m\n\u001b[0;31m    x = (\"a\" + \"b\"\u001b[0m\n\u001b[0m                  ^\u001b[0m\n\u001b[0;31mSyntaxError\u001b[0m\u001b[0;31m:\u001b[0m unexpected EOF while parsing\n"
     ]
    }
   ],
   "source": [
    "# Example 3\n",
    "x = (\"a\" + \"b\""
   ]
  },
  {
   "cell_type": "markdown",
   "id": "b6a5f1cc",
   "metadata": {},
   "source": [
    "If the extra parenthesis is a '(' with no corresponding ')' later in the expression, **and** this occurs on the last line of the program, we'll get an error that says it reached the end of the file (abbreviated as EOF) unexpectedly without finding a ')'. "
   ]
  },
  {
   "cell_type": "markdown",
   "id": "4dea8fb3",
   "metadata": {},
   "source": [
    "In all of cases, the solution is making sure all of our parentheses match up:"
   ]
  },
  {
   "cell_type": "code",
   "execution_count": 11,
   "id": "5c256967",
   "metadata": {},
   "outputs": [],
   "source": [
    "# Example 1 Solutions\n",
    "x = ((6+8) / 4)\n",
    "x = (6+8) / 4\n",
    "\n",
    "# Example 2&3 Solutions\n",
    "x = (\"a\" + \"b\")\n",
    "x = \"a\" + \"b\""
   ]
  },
  {
   "cell_type": "markdown",
   "id": "ae4eb587",
   "metadata": {},
   "source": [
    "## 5. Variable isn’t defined (or isn’t defined *yet*)"
   ]
  },
  {
   "cell_type": "markdown",
   "id": "230c650a",
   "metadata": {},
   "source": [
    "Variables must be defined *before* you use them. "
   ]
  },
  {
   "cell_type": "code",
   "execution_count": 18,
   "id": "3def6ac1",
   "metadata": {},
   "outputs": [
    {
     "ename": "NameError",
     "evalue": "name 'z' is not defined",
     "output_type": "error",
     "traceback": [
      "\u001b[0;31m---------------------------------------------------------------------------\u001b[0m",
      "\u001b[0;31mNameError\u001b[0m                                 Traceback (most recent call last)",
      "Cell \u001b[0;32mIn [18], line 1\u001b[0m\n\u001b[0;32m----> 1\u001b[0m x \u001b[38;5;241m=\u001b[39m \u001b[43mz\u001b[49m \u001b[38;5;241m+\u001b[39m \u001b[38;5;241m5\u001b[39m\n\u001b[1;32m      2\u001b[0m z \u001b[38;5;241m=\u001b[39m \u001b[38;5;241m10\u001b[39m\n",
      "\u001b[0;31mNameError\u001b[0m: name 'z' is not defined"
     ]
    }
   ],
   "source": [
    "x = z + 5\n",
    "z = 10"
   ]
  },
  {
   "cell_type": "code",
   "execution_count": 19,
   "id": "f7af6bcc",
   "metadata": {},
   "outputs": [],
   "source": [
    "# Solution\n",
    "z = 10\n",
    "x = z + 5"
   ]
  },
  {
   "cell_type": "markdown",
   "id": "bc482a70",
   "metadata": {},
   "source": [
    "## 6. Quotations Surround Strings, but not Variable Names"
   ]
  },
  {
   "cell_type": "markdown",
   "id": "8cd20628",
   "metadata": {},
   "source": [
    "Quotation marks around some series of characters denote whatever is inside the quotation marks as a string value. Quotations do not go around variable or parameter names: Python will think you are talking about a String value that is that variable name."
   ]
  },
  {
   "cell_type": "code",
   "execution_count": 6,
   "id": "d6336857",
   "metadata": {},
   "outputs": [
    {
     "name": "stdout",
     "output_type": "stream",
     "text": [
      "Hello name\n"
     ]
    }
   ],
   "source": [
    "name = \"Bruce\"\n",
    "print(\"Hello\", \"name\")"
   ]
  },
  {
   "cell_type": "markdown",
   "id": "21d3a0d9",
   "metadata": {},
   "source": [
    "In the example above, we would *not* put parentheses around the variable name, name, in the print statement:"
   ]
  },
  {
   "cell_type": "code",
   "execution_count": 2,
   "id": "d97cae2f",
   "metadata": {},
   "outputs": [
    {
     "name": "stdout",
     "output_type": "stream",
     "text": [
      "Hello Bruce\n"
     ]
    }
   ],
   "source": [
    "name = \"Bruce\"\n",
    "print(\"Hello\", name)"
   ]
  },
  {
   "cell_type": "markdown",
   "id": "1377738b",
   "metadata": {},
   "source": [
    "In contrast, we *do* need to put quotation marks around things we want to be treated as strings, or else Python will assume we are talking about a variable name:"
   ]
  },
  {
   "cell_type": "code",
   "execution_count": 3,
   "id": "c83565e5",
   "metadata": {},
   "outputs": [
    {
     "name": "stdout",
     "output_type": "stream",
     "text": [
      "What is your favorite team? Phillies\n"
     ]
    },
    {
     "ename": "NameError",
     "evalue": "name 'Phillies' is not defined",
     "output_type": "error",
     "traceback": [
      "\u001b[0;31m---------------------------------------------------------------------------\u001b[0m",
      "\u001b[0;31mNameError\u001b[0m                                 Traceback (most recent call last)",
      "Cell \u001b[0;32mIn [3], line 3\u001b[0m\n\u001b[1;32m      1\u001b[0m favorite_team \u001b[38;5;241m=\u001b[39m \u001b[38;5;28minput\u001b[39m(\u001b[38;5;124m\"\u001b[39m\u001b[38;5;124mWhat is your favorite team? \u001b[39m\u001b[38;5;124m\"\u001b[39m)\n\u001b[0;32m----> 3\u001b[0m \u001b[38;5;28;01mif\u001b[39;00m favorite_team \u001b[38;5;241m==\u001b[39m \u001b[43mPhillies\u001b[49m:\n\u001b[1;32m      4\u001b[0m     \u001b[38;5;28mprint\u001b[39m(\u001b[38;5;124m\"\u001b[39m\u001b[38;5;124mGo Phillies!\u001b[39m\u001b[38;5;124m\"\u001b[39m)\n",
      "\u001b[0;31mNameError\u001b[0m: name 'Phillies' is not defined"
     ]
    }
   ],
   "source": [
    "favorite_team = input(\"What is your favorite team? \")\n",
    "\n",
    "if favorite_team == Phillies:\n",
    "    print(\"Go Phillies!\")"
   ]
  },
  {
   "cell_type": "markdown",
   "id": "4276b230",
   "metadata": {},
   "source": [
    "In the above program, we got an error because we did not put quotations around the string \"Phillies\", so Python assumed that we were talking about a variable with this name (which does not exist). We can fix this as follows:"
   ]
  },
  {
   "cell_type": "code",
   "execution_count": 4,
   "id": "9f65f374",
   "metadata": {},
   "outputs": [
    {
     "name": "stdout",
     "output_type": "stream",
     "text": [
      "What is your favorite team? Phillies\n",
      "Go Phillies!\n"
     ]
    }
   ],
   "source": [
    "favorite_team = input(\"What is your favorite team? \")\n",
    "\n",
    "if favorite_team == \"Phillies\":\n",
    "    print(\"Go Phillies!\")"
   ]
  },
  {
   "cell_type": "markdown",
   "id": "60f78655",
   "metadata": {},
   "source": [
    "## 7. Literal Values or Operators in Function Header"
   ]
  },
  {
   "cell_type": "markdown",
   "id": "76d894c6",
   "metadata": {},
   "source": [
    "You can’t have literal values or operators inside the parentheses in function headers – only parameter name(s), separated by commas if there are more than one."
   ]
  },
  {
   "cell_type": "code",
   "execution_count": 3,
   "id": "0f824599",
   "metadata": {},
   "outputs": [
    {
     "ename": "SyntaxError",
     "evalue": "invalid syntax (1701039252.py, line 2)",
     "output_type": "error",
     "traceback": [
      "\u001b[0;36m  Cell \u001b[0;32mIn [3], line 2\u001b[0;36m\u001b[0m\n\u001b[0;31m    def calc_sq_ft(length*width):\u001b[0m\n\u001b[0m                         ^\u001b[0m\n\u001b[0;31mSyntaxError\u001b[0m\u001b[0;31m:\u001b[0m invalid syntax\n"
     ]
    }
   ],
   "source": [
    "# Example 1\n",
    "def calc_sq_ft(length*width):\n",
    "    area = length*width\n",
    "    return area"
   ]
  },
  {
   "cell_type": "code",
   "execution_count": 5,
   "id": "62d48ea1",
   "metadata": {},
   "outputs": [
    {
     "ename": "SyntaxError",
     "evalue": "invalid syntax (1763106480.py, line 2)",
     "output_type": "error",
     "traceback": [
      "\u001b[0;36m  Cell \u001b[0;32mIn [5], line 2\u001b[0;36m\u001b[0m\n\u001b[0;31m    def calc_sq_ft(\"length\",\"width\"):\u001b[0m\n\u001b[0m                   ^\u001b[0m\n\u001b[0;31mSyntaxError\u001b[0m\u001b[0;31m:\u001b[0m invalid syntax\n"
     ]
    }
   ],
   "source": [
    "# Example 2\n",
    "def calc_sq_ft(\"length\",\"width\"):\n",
    "    area = length*width\n",
    "    return area"
   ]
  },
  {
   "cell_type": "code",
   "execution_count": 28,
   "id": "4522ad19",
   "metadata": {},
   "outputs": [
    {
     "ename": "SyntaxError",
     "evalue": "invalid syntax (3951048425.py, line 2)",
     "output_type": "error",
     "traceback": [
      "\u001b[0;36m  Cell \u001b[0;32mIn [28], line 2\u001b[0;36m\u001b[0m\n\u001b[0;31m    def calc_sq_ft(int(length),int(width)):\u001b[0m\n\u001b[0m                      ^\u001b[0m\n\u001b[0;31mSyntaxError\u001b[0m\u001b[0;31m:\u001b[0m invalid syntax\n"
     ]
    }
   ],
   "source": [
    "# Example 3\n",
    "def calc_sq_ft(int(length),int(width)):\n",
    "    area = length*width\n",
    "    return area"
   ]
  },
  {
   "cell_type": "code",
   "execution_count": 4,
   "id": "3e0b1bf1",
   "metadata": {},
   "outputs": [],
   "source": [
    "# Solution\n",
    "def calc_sq_ft(length,width):\n",
    "    area = length*width\n",
    "    return area"
   ]
  },
  {
   "cell_type": "markdown",
   "id": "5ab157be",
   "metadata": {},
   "source": [
    "## 8. Avoid Naming New Functions the Name of a Built-in Function"
   ]
  },
  {
   "cell_type": "markdown",
   "id": "3cebdaee",
   "metadata": {},
   "source": [
    "While this may not produce an error, we want to avoid defining new functions with the same name as a built-in function. This is like overwriting the meaning of the built-in function, so we can no longer use it for that purpose. "
   ]
  },
  {
   "cell_type": "code",
   "execution_count": 20,
   "id": "c0ab6bf8",
   "metadata": {},
   "outputs": [
    {
     "name": "stdout",
     "output_type": "stream",
     "text": [
      "My new definition of input\n"
     ]
    }
   ],
   "source": [
    "def input(prompt):\n",
    "    print(\"My new definition of input\")\n",
    "    \n",
    "name = input(\"Enter name: \")"
   ]
  },
  {
   "cell_type": "markdown",
   "id": "8ee298c0",
   "metadata": {},
   "source": [
    "In the example above, since we gave input a new function definition, we can no longer use the built-in version that asks users for input! As long as we avoid naming our new function *exactly* the same as a built-in function, we can have both:"
   ]
  },
  {
   "cell_type": "code",
   "execution_count": 1,
   "id": "474601b8",
   "metadata": {},
   "outputs": [
    {
     "name": "stdout",
     "output_type": "stream",
     "text": [
      "Enter name: Emma\n",
      "My new definition of input\n"
     ]
    }
   ],
   "source": [
    "# Solution\n",
    "def new_input(prompt):\n",
    "    print(\"My new definition of input\")\n",
    "    \n",
    "name = input(\"Enter name: \")\n",
    "new_name = new_input(\"Enter name: \")"
   ]
  },
  {
   "cell_type": "markdown",
   "id": "a3f50fcc",
   "metadata": {},
   "source": [
    "## 9. Missing Operator"
   ]
  },
  {
   "cell_type": "markdown",
   "id": "0c2886ff",
   "metadata": {},
   "source": [
    "If we have two values next to each other with no operator connecting them, we'll get a syntax error."
   ]
  },
  {
   "cell_type": "code",
   "execution_count": 8,
   "id": "bccf18c2",
   "metadata": {},
   "outputs": [
    {
     "ename": "SyntaxError",
     "evalue": "invalid syntax (2493147514.py, line 3)",
     "output_type": "error",
     "traceback": [
      "\u001b[0;36m  Cell \u001b[0;32mIn [8], line 3\u001b[0;36m\u001b[0m\n\u001b[0;31m    time_string = \"It is \" hour \":\" minute\u001b[0m\n\u001b[0m                           ^\u001b[0m\n\u001b[0;31mSyntaxError\u001b[0m\u001b[0;31m:\u001b[0m invalid syntax\n"
     ]
    }
   ],
   "source": [
    "hour = 5\n",
    "minute = 15\n",
    "time_string = \"It is \" hour \":\" minute"
   ]
  },
  {
   "cell_type": "markdown",
   "id": "d299bcc6",
   "metadata": {},
   "source": [
    "Depending on the program, the solution (which operator you need) will be different. For example, in the program above, the intention was to concatenate the values:"
   ]
  },
  {
   "cell_type": "code",
   "execution_count": 1,
   "id": "2ece019e",
   "metadata": {},
   "outputs": [],
   "source": [
    "hour = 5\n",
    "minute = 15\n",
    "time_string = \"It is \" + str(hour) + \":\" + str(minute)"
   ]
  },
  {
   "cell_type": "markdown",
   "id": "45a4c88b",
   "metadata": {},
   "source": [
    "## 10. Not indenting the body of a function or conditional statement"
   ]
  },
  {
   "cell_type": "markdown",
   "id": "0805d5cc",
   "metadata": {},
   "source": [
    "A function header (the line that starts with def and ends with a colon) is not indented at all. However, all of the code that is a part of the function, a.k.a. the body of the function, or all of the code that you want to happen each time you call the function, must be indented under the function header."
   ]
  },
  {
   "cell_type": "code",
   "execution_count": 12,
   "id": "37397647",
   "metadata": {},
   "outputs": [
    {
     "ename": "IndentationError",
     "evalue": "expected an indented block (920871279.py, line 2)",
     "output_type": "error",
     "traceback": [
      "\u001b[0;36m  Cell \u001b[0;32mIn [12], line 2\u001b[0;36m\u001b[0m\n\u001b[0;31m    area = base * height / 2\u001b[0m\n\u001b[0m    ^\u001b[0m\n\u001b[0;31mIndentationError\u001b[0m\u001b[0;31m:\u001b[0m expected an indented block\n"
     ]
    }
   ],
   "source": [
    "def area_of_triangle(base, height):\n",
    "area = base * height / 2\n",
    "return area"
   ]
  },
  {
   "cell_type": "markdown",
   "id": "34858363",
   "metadata": {},
   "source": [
    "We get the same error if we don't have any instructions indented under an if/elif/else:"
   ]
  },
  {
   "cell_type": "code",
   "execution_count": 46,
   "id": "018f35f9",
   "metadata": {},
   "outputs": [
    {
     "ename": "IndentationError",
     "evalue": "expected an indented block (1679830920.py, line 4)",
     "output_type": "error",
     "traceback": [
      "\u001b[0;36m  Cell \u001b[0;32mIn [46], line 4\u001b[0;36m\u001b[0m\n\u001b[0;31m    print(\"It's sunny outside.\")\u001b[0m\n\u001b[0m    ^\u001b[0m\n\u001b[0;31mIndentationError\u001b[0m\u001b[0;31m:\u001b[0m expected an indented block\n"
     ]
    }
   ],
   "source": [
    "answer = input(\"Would you like to hear the weather? \")\n",
    "\n",
    "if answer == \"Yes\":\n",
    "print(\"It's sunny outside.\")\n",
    "else:\n",
    "print(\"Okay, no problem!\")"
   ]
  },
  {
   "cell_type": "code",
   "execution_count": 47,
   "id": "7a084992",
   "metadata": {},
   "outputs": [
    {
     "name": "stdout",
     "output_type": "stream",
     "text": [
      "Would you like to hear the weather? No\n",
      "Okay, no problem!\n"
     ]
    }
   ],
   "source": [
    "# Solution\n",
    "answer = input(\"Would you like to hear the weather? \")\n",
    "\n",
    "if answer == \"Yes\":\n",
    "    print(\"It's sunny outside.\")\n",
    "else:\n",
    "    print(\"Okay, no problem!\")"
   ]
  },
  {
   "cell_type": "markdown",
   "id": "69383c9e",
   "metadata": {},
   "source": [
    "## 11. Incorrect number of arguments"
   ]
  },
  {
   "cell_type": "markdown",
   "id": "f74e0e92",
   "metadata": {},
   "source": [
    "The number of arguments given in a function call should exactly match the number of parameters in the function header. If we give fewer arguments than the function was expecting, the error tells us that we are missing some arguments. Similarly, if we give more than expected, we will also get an error."
   ]
  },
  {
   "cell_type": "code",
   "execution_count": 1,
   "id": "092903f4",
   "metadata": {},
   "outputs": [
    {
     "ename": "TypeError",
     "evalue": "area_of_triangle() missing 1 required positional argument: 'height'",
     "output_type": "error",
     "traceback": [
      "\u001b[0;31m---------------------------------------------------------------------------\u001b[0m",
      "\u001b[0;31mTypeError\u001b[0m                                 Traceback (most recent call last)",
      "Cell \u001b[0;32mIn [1], line 5\u001b[0m\n\u001b[1;32m      2\u001b[0m     area \u001b[38;5;241m=\u001b[39m base \u001b[38;5;241m*\u001b[39m height \u001b[38;5;241m/\u001b[39m \u001b[38;5;241m2\u001b[39m\n\u001b[1;32m      3\u001b[0m     \u001b[38;5;28;01mreturn\u001b[39;00m area\n\u001b[0;32m----> 5\u001b[0m result \u001b[38;5;241m=\u001b[39m \u001b[43marea_of_triangle\u001b[49m\u001b[43m(\u001b[49m\u001b[38;5;241;43m8\u001b[39;49m\u001b[43m)\u001b[49m\n",
      "\u001b[0;31mTypeError\u001b[0m: area_of_triangle() missing 1 required positional argument: 'height'"
     ]
    }
   ],
   "source": [
    "def area_of_triangle(base, height):\n",
    "    area = base * height / 2\n",
    "    return area\n",
    "\n",
    "result = area_of_triangle(8)"
   ]
  },
  {
   "cell_type": "code",
   "execution_count": 2,
   "id": "e3bf06d9",
   "metadata": {},
   "outputs": [
    {
     "ename": "TypeError",
     "evalue": "area_of_triangle() takes 2 positional arguments but 3 were given",
     "output_type": "error",
     "traceback": [
      "\u001b[0;31m---------------------------------------------------------------------------\u001b[0m",
      "\u001b[0;31mTypeError\u001b[0m                                 Traceback (most recent call last)",
      "Cell \u001b[0;32mIn [2], line 5\u001b[0m\n\u001b[1;32m      2\u001b[0m     area \u001b[38;5;241m=\u001b[39m base \u001b[38;5;241m*\u001b[39m height \u001b[38;5;241m/\u001b[39m \u001b[38;5;241m2\u001b[39m\n\u001b[1;32m      3\u001b[0m     \u001b[38;5;28;01mreturn\u001b[39;00m area\n\u001b[0;32m----> 5\u001b[0m \u001b[38;5;28mprint\u001b[39m(\u001b[43marea_of_triangle\u001b[49m\u001b[43m(\u001b[49m\u001b[38;5;241;43m8\u001b[39;49m\u001b[43m,\u001b[49m\u001b[38;5;241;43m3\u001b[39;49m\u001b[43m,\u001b[49m\u001b[38;5;241;43m16\u001b[39;49m\u001b[43m)\u001b[49m)\n",
      "\u001b[0;31mTypeError\u001b[0m: area_of_triangle() takes 2 positional arguments but 3 were given"
     ]
    }
   ],
   "source": [
    "def area_of_triangle(base, height):\n",
    "    area = base * height / 2\n",
    "    return area\n",
    "\n",
    "print(area_of_triangle(8,3,16))"
   ]
  },
  {
   "cell_type": "code",
   "execution_count": 4,
   "id": "fdd5a8a5",
   "metadata": {},
   "outputs": [
    {
     "name": "stdout",
     "output_type": "stream",
     "text": [
      "12.0\n"
     ]
    }
   ],
   "source": [
    "# Solution\n",
    "def area_of_triangle(base, height):\n",
    "    area = base * height / 2\n",
    "    return area\n",
    "\n",
    "result = area_of_triangle(8, 3)\n",
    "print(result)"
   ]
  },
  {
   "cell_type": "markdown",
   "id": "1b647978",
   "metadata": {},
   "source": [
    "## 12. Errors with import statements"
   ]
  },
  {
   "cell_type": "markdown",
   "id": "23cfbb62",
   "metadata": {},
   "source": [
    "Import statements, such as for importing the math module, must go on a separate line *before* we use anything from math. By convention, we always put import statements at the top of our whole program."
   ]
  },
  {
   "cell_type": "code",
   "execution_count": 6,
   "id": "66e78935",
   "metadata": {},
   "outputs": [
    {
     "ename": "SyntaxError",
     "evalue": "invalid syntax (1666326048.py, line 1)",
     "output_type": "error",
     "traceback": [
      "\u001b[0;36m  Cell \u001b[0;32mIn [6], line 1\u001b[0;36m\u001b[0m\n\u001b[0;31m    sq_rt_4 = import math math.sqrt(4)\u001b[0m\n\u001b[0m              ^\u001b[0m\n\u001b[0;31mSyntaxError\u001b[0m\u001b[0;31m:\u001b[0m invalid syntax\n"
     ]
    }
   ],
   "source": [
    "sq_rt_4 = import math math.sqrt(4)"
   ]
  },
  {
   "cell_type": "code",
   "execution_count": 7,
   "id": "7f8eebbd",
   "metadata": {},
   "outputs": [
    {
     "ename": "NameError",
     "evalue": "name 'math' is not defined",
     "output_type": "error",
     "traceback": [
      "\u001b[0;31m---------------------------------------------------------------------------\u001b[0m",
      "\u001b[0;31mNameError\u001b[0m                                 Traceback (most recent call last)",
      "Cell \u001b[0;32mIn [7], line 1\u001b[0m\n\u001b[0;32m----> 1\u001b[0m sq_rt_4 \u001b[38;5;241m=\u001b[39m \u001b[43mmath\u001b[49m\u001b[38;5;241m.\u001b[39msqrt(\u001b[38;5;241m4\u001b[39m)\n\u001b[1;32m      2\u001b[0m \u001b[38;5;28;01mimport\u001b[39;00m \u001b[38;5;21;01mmath\u001b[39;00m\n",
      "\u001b[0;31mNameError\u001b[0m: name 'math' is not defined"
     ]
    }
   ],
   "source": [
    "sq_rt_4 = math.sqrt(4)\n",
    "import math"
   ]
  },
  {
   "cell_type": "code",
   "execution_count": 9,
   "id": "98448605",
   "metadata": {},
   "outputs": [
    {
     "name": "stdout",
     "output_type": "stream",
     "text": [
      "2.0\n"
     ]
    }
   ],
   "source": [
    "# Solution\n",
    "import math \n",
    "sq_rt_4 = math.sqrt(4)\n",
    "print(sq_rt_4)"
   ]
  },
  {
   "cell_type": "markdown",
   "id": "5feba0fa",
   "metadata": {},
   "source": [
    "## 13. PEMDAS related issues"
   ]
  },
  {
   "cell_type": "markdown",
   "id": "c222d025",
   "metadata": {},
   "source": [
    "The order of operations (see lecture 1 content) comes into play in Python both in correctly evaluating mathematics expressions, as well as other types of expressions. For example, let's say we want to multiply a dash and a space twenty times (for a \"dotted line\" look). Notice how the following expressions are executed in the order of operations:"
   ]
  },
  {
   "cell_type": "code",
   "execution_count": 10,
   "id": "32d32210",
   "metadata": {},
   "outputs": [
    {
     "name": "stdout",
     "output_type": "stream",
     "text": [
      "-                    \n"
     ]
    }
   ],
   "source": [
    "print('-' + ' ' * 20)"
   ]
  },
  {
   "cell_type": "code",
   "execution_count": 11,
   "id": "0e99fcf1",
   "metadata": {},
   "outputs": [
    {
     "name": "stdout",
     "output_type": "stream",
     "text": [
      "- - - - - - - - - - - - - - - - - - - - \n"
     ]
    }
   ],
   "source": [
    "print(('-' + ' ') * 20)"
   ]
  },
  {
   "cell_type": "markdown",
   "id": "0d738e32",
   "metadata": {},
   "source": [
    "The first expression results in one dash followed by 20 spaces -- not what we intended. We can use parentheses in the second expression to get our desired effect."
   ]
  },
  {
   "cell_type": "markdown",
   "id": "4224d272",
   "metadata": {},
   "source": [
    "## 14. Unsupported operand type(s)"
   ]
  },
  {
   "cell_type": "markdown",
   "id": "923de453",
   "metadata": {},
   "source": [
    "This error is usually pretty explicit in what went wrong. We get this error as a result of trying to use some operand (i.e., +, -, *, /, //, %) with one or both of the values on either side being an invalid type. Recall that there are only two operands that we can use with 'sequence' types (like strings, which are sequences of characters): + for addition (concatenation) of two strings, and * for multiplication (repetition) of a string and an integer. If we try to subtract or divide a sequence, Python doesn't know how to do that and gives us an error."
   ]
  },
  {
   "cell_type": "code",
   "execution_count": 13,
   "id": "12880538",
   "metadata": {},
   "outputs": [
    {
     "ename": "TypeError",
     "evalue": "unsupported operand type(s) for -: 'str' and 'str'",
     "output_type": "error",
     "traceback": [
      "\u001b[0;31m---------------------------------------------------------------------------\u001b[0m",
      "\u001b[0;31mTypeError\u001b[0m                                 Traceback (most recent call last)",
      "Cell \u001b[0;32mIn [13], line 1\u001b[0m\n\u001b[0;32m----> 1\u001b[0m \u001b[38;5;28mprint\u001b[39m(\u001b[38;5;124;43m'\u001b[39;49m\u001b[38;5;124;43mHello\u001b[39;49m\u001b[38;5;124;43m'\u001b[39;49m\u001b[43m \u001b[49m\u001b[38;5;241;43m-\u001b[39;49m\u001b[43m \u001b[49m\u001b[38;5;124;43m'\u001b[39;49m\u001b[38;5;124;43mWorld\u001b[39;49m\u001b[38;5;124;43m'\u001b[39;49m)\n",
      "\u001b[0;31mTypeError\u001b[0m: unsupported operand type(s) for -: 'str' and 'str'"
     ]
    }
   ],
   "source": [
    "print('Hello' - 'World')"
   ]
  },
  {
   "cell_type": "code",
   "execution_count": 15,
   "id": "2c9924c6",
   "metadata": {},
   "outputs": [
    {
     "ename": "TypeError",
     "evalue": "can't multiply sequence by non-int of type 'float'",
     "output_type": "error",
     "traceback": [
      "\u001b[0;31m---------------------------------------------------------------------------\u001b[0m",
      "\u001b[0;31mTypeError\u001b[0m                                 Traceback (most recent call last)",
      "Cell \u001b[0;32mIn [15], line 1\u001b[0m\n\u001b[0;32m----> 1\u001b[0m \u001b[38;5;28mprint\u001b[39m(\u001b[38;5;124;43m'\u001b[39;49m\u001b[38;5;124;43m3\u001b[39;49m\u001b[38;5;124;43m'\u001b[39;49m\u001b[43m \u001b[49m\u001b[38;5;241;43m*\u001b[39;49m\u001b[43m \u001b[49m\u001b[38;5;241;43m3.2\u001b[39;49m)\n",
      "\u001b[0;31mTypeError\u001b[0m: can't multiply sequence by non-int of type 'float'"
     ]
    }
   ],
   "source": [
    "print('3' * 3.2)"
   ]
  },
  {
   "cell_type": "code",
   "execution_count": 20,
   "id": "027496f3",
   "metadata": {},
   "outputs": [
    {
     "ename": "TypeError",
     "evalue": "unsupported operand type(s) for /: 'str' and 'float'",
     "output_type": "error",
     "traceback": [
      "\u001b[0;31m---------------------------------------------------------------------------\u001b[0m",
      "\u001b[0;31mTypeError\u001b[0m                                 Traceback (most recent call last)",
      "Cell \u001b[0;32mIn [20], line 1\u001b[0m\n\u001b[0;32m----> 1\u001b[0m \u001b[38;5;28mprint\u001b[39m(\u001b[38;5;124;43m'\u001b[39;49m\u001b[38;5;124;43m3\u001b[39;49m\u001b[38;5;124;43m'\u001b[39;49m\u001b[43m \u001b[49m\u001b[38;5;241;43m/\u001b[39;49m\u001b[43m \u001b[49m\u001b[38;5;241;43m3.2\u001b[39;49m)\n",
      "\u001b[0;31mTypeError\u001b[0m: unsupported operand type(s) for /: 'str' and 'float'"
     ]
    }
   ],
   "source": [
    "print('3' / 3.2)"
   ]
  },
  {
   "cell_type": "markdown",
   "id": "25680ecd",
   "metadata": {},
   "source": [
    "If you get this error unexpectedly because you were intending to do an operation between two numbers, make sure that you have used type conversion accordingly."
   ]
  },
  {
   "cell_type": "code",
   "execution_count": 22,
   "id": "be84c594",
   "metadata": {},
   "outputs": [
    {
     "name": "stdout",
     "output_type": "stream",
     "text": [
      "333\n"
     ]
    }
   ],
   "source": [
    "print('3' * int(3.8))"
   ]
  },
  {
   "cell_type": "code",
   "execution_count": 23,
   "id": "7646bc07",
   "metadata": {},
   "outputs": [
    {
     "name": "stdout",
     "output_type": "stream",
     "text": [
      "0.7894736842105263\n"
     ]
    }
   ],
   "source": [
    "print(int('3') / 3.8)"
   ]
  },
  {
   "cell_type": "markdown",
   "id": "53e084f5",
   "metadata": {},
   "source": [
    "## 15. Parameters and variables created inside a function are not accessible outside the function"
   ]
  },
  {
   "cell_type": "markdown",
   "id": "13cc2b61",
   "metadata": {},
   "source": [
    "Recall how in a stack diagram, parameters of a function and any variables created inside the function are added to the function frame, not the global frame. This visually represents how these names only mean something inside the function – once outside the function again, you can’t use them or reference them anymore."
   ]
  },
  {
   "cell_type": "code",
   "execution_count": 24,
   "id": "326e9d44",
   "metadata": {},
   "outputs": [
    {
     "ename": "NameError",
     "evalue": "name 'area' is not defined",
     "output_type": "error",
     "traceback": [
      "\u001b[0;31m---------------------------------------------------------------------------\u001b[0m",
      "\u001b[0;31mNameError\u001b[0m                                 Traceback (most recent call last)",
      "Cell \u001b[0;32mIn [24], line 5\u001b[0m\n\u001b[1;32m      2\u001b[0m     area \u001b[38;5;241m=\u001b[39m \u001b[38;5;241m3.14\u001b[39m \u001b[38;5;241m*\u001b[39m radius \u001b[38;5;241m*\u001b[39m radius\n\u001b[1;32m      3\u001b[0m     \u001b[38;5;28;01mreturn\u001b[39;00m area\n\u001b[0;32m----> 5\u001b[0m \u001b[38;5;28mprint\u001b[39m(\u001b[43marea\u001b[49m)\n",
      "\u001b[0;31mNameError\u001b[0m: name 'area' is not defined"
     ]
    }
   ],
   "source": [
    "def area_of_circle(radius):\n",
    "    area = 3.14 * radius * radius\n",
    "    return area\n",
    "\n",
    "print(area)"
   ]
  },
  {
   "cell_type": "code",
   "execution_count": 25,
   "id": "1d417578",
   "metadata": {},
   "outputs": [
    {
     "ename": "NameError",
     "evalue": "name 'radius' is not defined",
     "output_type": "error",
     "traceback": [
      "\u001b[0;31m---------------------------------------------------------------------------\u001b[0m",
      "\u001b[0;31mNameError\u001b[0m                                 Traceback (most recent call last)",
      "Cell \u001b[0;32mIn [25], line 5\u001b[0m\n\u001b[1;32m      2\u001b[0m     area \u001b[38;5;241m=\u001b[39m \u001b[38;5;241m3.14\u001b[39m \u001b[38;5;241m*\u001b[39m radius \u001b[38;5;241m*\u001b[39m radius\n\u001b[1;32m      3\u001b[0m     \u001b[38;5;28;01mreturn\u001b[39;00m area\n\u001b[0;32m----> 5\u001b[0m \u001b[38;5;28mprint\u001b[39m(\u001b[43mradius\u001b[49m)\n",
      "\u001b[0;31mNameError\u001b[0m: name 'radius' is not defined"
     ]
    }
   ],
   "source": [
    "def area_of_circle(radius):\n",
    "    area = 3.14 * radius * radius\n",
    "    return area\n",
    "\n",
    "print(radius)"
   ]
  },
  {
   "cell_type": "markdown",
   "id": "2a4c18f5",
   "metadata": {},
   "source": [
    "We can only use parameters and variables created inside a function when we are in that function (i.e., executing a line that is in the body of that function). Once we have \"left\" the function (or returned to the line from which it was called), those names are no longer defined."
   ]
  },
  {
   "cell_type": "markdown",
   "id": "d0218a26",
   "metadata": {},
   "source": [
    "## 16. Putting an '=' sign after a keyword"
   ]
  },
  {
   "cell_type": "markdown",
   "id": "e9193726",
   "metadata": {},
   "source": [
    "We get an error if we try to put an '=' after a keyword (like def or return):"
   ]
  },
  {
   "cell_type": "code",
   "execution_count": 26,
   "id": "28e29c4e",
   "metadata": {},
   "outputs": [
    {
     "ename": "SyntaxError",
     "evalue": "invalid syntax (1652898640.py, line 1)",
     "output_type": "error",
     "traceback": [
      "\u001b[0;36m  Cell \u001b[0;32mIn [26], line 1\u001b[0;36m\u001b[0m\n\u001b[0;31m    def = area_of_circle(radius):\u001b[0m\n\u001b[0m        ^\u001b[0m\n\u001b[0;31mSyntaxError\u001b[0m\u001b[0;31m:\u001b[0m invalid syntax\n"
     ]
    }
   ],
   "source": [
    "def = area_of_circle(radius):\n",
    "    area = 3.14 * radius * radius\n",
    "    return area"
   ]
  },
  {
   "cell_type": "code",
   "execution_count": 27,
   "id": "256c5efe",
   "metadata": {},
   "outputs": [
    {
     "ename": "SyntaxError",
     "evalue": "invalid syntax (187177686.py, line 3)",
     "output_type": "error",
     "traceback": [
      "\u001b[0;36m  Cell \u001b[0;32mIn [27], line 3\u001b[0;36m\u001b[0m\n\u001b[0;31m    return = area\u001b[0m\n\u001b[0m           ^\u001b[0m\n\u001b[0;31mSyntaxError\u001b[0m\u001b[0;31m:\u001b[0m invalid syntax\n"
     ]
    }
   ],
   "source": [
    "def area_of_circle(radius):\n",
    "    area = 3.14 * radius * radius\n",
    "    return = area"
   ]
  },
  {
   "cell_type": "markdown",
   "id": "17aee847",
   "metadata": {},
   "source": [
    "This is because the single '=' only means one thing in Python: assigning a value (to the right of the '=') to a variable (to the left of the '='). In the lines above, Python would think you are trying to assign a value to a new variable named def in the first example, or return in the second example. However, recall from Ch. 1 that we can't have variable names that are keywords. Therefore, we get a syntax error.\n",
    "\n",
    "Thankfully, the solution is simple: remove the '='!"
   ]
  },
  {
   "cell_type": "code",
   "execution_count": 29,
   "id": "13fcc54b",
   "metadata": {},
   "outputs": [
    {
     "name": "stdout",
     "output_type": "stream",
     "text": [
      "50.24\n"
     ]
    }
   ],
   "source": [
    "def area_of_circle(radius):\n",
    "    area = 3.14 * radius * radius\n",
    "    return area\n",
    "\n",
    "print(area_of_circle(4))"
   ]
  },
  {
   "cell_type": "markdown",
   "id": "588c94f2",
   "metadata": {},
   "source": [
    "## 17. Keywords and Function/Variable Names are Case-Sensitive"
   ]
  },
  {
   "cell_type": "markdown",
   "id": "9cdfe99c",
   "metadata": {},
   "source": [
    "Python keywords are all lowercase, and by convention, we also typically name our variables and functions in all lowercase (although this isn't required). If we capitalize a keyword, we'll likely get a Syntax error:"
   ]
  },
  {
   "cell_type": "code",
   "execution_count": 1,
   "id": "b452f0db",
   "metadata": {},
   "outputs": [
    {
     "ename": "SyntaxError",
     "evalue": "invalid syntax (669440725.py, line 3)",
     "output_type": "error",
     "traceback": [
      "\u001b[0;36m  Cell \u001b[0;32mIn [1], line 3\u001b[0;36m\u001b[0m\n\u001b[0;31m    Return area\u001b[0m\n\u001b[0m           ^\u001b[0m\n\u001b[0;31mSyntaxError\u001b[0m\u001b[0;31m:\u001b[0m invalid syntax\n"
     ]
    }
   ],
   "source": [
    "def area_of_circle(radius):\n",
    "    area = 3.14 * radius * radius\n",
    "    Return area"
   ]
  },
  {
   "cell_type": "markdown",
   "id": "cc426a05",
   "metadata": {},
   "source": [
    "The error in the program above occurs *after* the capitalized keyword. This is because Python assumes that capital-R *Return* must be a variable, and this is not a valid structure to have a variable next to another variable, area."
   ]
  },
  {
   "cell_type": "code",
   "execution_count": 2,
   "id": "47f753e5",
   "metadata": {},
   "outputs": [
    {
     "ename": "SyntaxError",
     "evalue": "invalid syntax (91156896.py, line 5)",
     "output_type": "error",
     "traceback": [
      "\u001b[0;36m  Cell \u001b[0;32mIn [2], line 5\u001b[0;36m\u001b[0m\n\u001b[0;31m    Else:\u001b[0m\n\u001b[0m         ^\u001b[0m\n\u001b[0;31mSyntaxError\u001b[0m\u001b[0;31m:\u001b[0m invalid syntax\n"
     ]
    }
   ],
   "source": [
    "weather = input(\"How is the weather?\")\n",
    "\n",
    "if weather != \"Rainy\":\n",
    "    print(\"Remember to water the garden\")\n",
    "Else:\n",
    "    print(\"No need to water today\")"
   ]
  },
  {
   "cell_type": "markdown",
   "id": "bfcc7237",
   "metadata": {},
   "source": [
    "In this program, Python similarly assumes that capital-E \"Else\" must be a variable, and it's invalid structure to have a variable followed by a colon."
   ]
  },
  {
   "cell_type": "code",
   "execution_count": 4,
   "id": "b9775602",
   "metadata": {},
   "outputs": [
    {
     "name": "stdout",
     "output_type": "stream",
     "text": [
      "How is the weather?Sunny\n"
     ]
    },
    {
     "ename": "NameError",
     "evalue": "name 'Print' is not defined",
     "output_type": "error",
     "traceback": [
      "\u001b[0;31m---------------------------------------------------------------------------\u001b[0m",
      "\u001b[0;31mNameError\u001b[0m                                 Traceback (most recent call last)",
      "Cell \u001b[0;32mIn [4], line 4\u001b[0m\n\u001b[1;32m      1\u001b[0m weather \u001b[38;5;241m=\u001b[39m \u001b[38;5;28minput\u001b[39m(\u001b[38;5;124m\"\u001b[39m\u001b[38;5;124mHow is the weather?\u001b[39m\u001b[38;5;124m\"\u001b[39m)\n\u001b[1;32m      3\u001b[0m \u001b[38;5;28;01mif\u001b[39;00m weather \u001b[38;5;241m!=\u001b[39m \u001b[38;5;124m\"\u001b[39m\u001b[38;5;124mRainy\u001b[39m\u001b[38;5;124m\"\u001b[39m:\n\u001b[0;32m----> 4\u001b[0m     \u001b[43mPrint\u001b[49m(\u001b[38;5;124m\"\u001b[39m\u001b[38;5;124mRemember to water the garden\u001b[39m\u001b[38;5;124m\"\u001b[39m)\n\u001b[1;32m      5\u001b[0m \u001b[38;5;28;01melse\u001b[39;00m:\n\u001b[1;32m      6\u001b[0m     Print(\u001b[38;5;124m\"\u001b[39m\u001b[38;5;124mNo need to water today\u001b[39m\u001b[38;5;124m\"\u001b[39m)\n",
      "\u001b[0;31mNameError\u001b[0m: name 'Print' is not defined"
     ]
    }
   ],
   "source": [
    "weather = input(\"How is the weather?\")\n",
    "\n",
    "if weather != \"Rainy\":\n",
    "    Print(\"Remember to water the garden\")\n",
    "else:\n",
    "    Print(\"No need to water today\")"
   ]
  },
  {
   "cell_type": "markdown",
   "id": "3a61bed5",
   "metadata": {},
   "source": [
    "Similarly, function and variable names are also case-sensitive. We see above that Python doesn't know what \"Print\" is -- only print."
   ]
  },
  {
   "cell_type": "markdown",
   "id": "4ab8abfd",
   "metadata": {},
   "source": [
    "All of the above issues go away when we simply make sure these are capitalized correctly:"
   ]
  },
  {
   "cell_type": "code",
   "execution_count": 6,
   "id": "f34e1c43",
   "metadata": {},
   "outputs": [],
   "source": [
    "def area_of_circle(radius):\n",
    "    area = 3.14 * radius * radius\n",
    "    return area"
   ]
  },
  {
   "cell_type": "code",
   "execution_count": 7,
   "id": "9e05008a",
   "metadata": {},
   "outputs": [
    {
     "name": "stdout",
     "output_type": "stream",
     "text": [
      "How is the weather?Sunny\n",
      "Remember to water the garden\n"
     ]
    }
   ],
   "source": [
    "weather = input(\"How is the weather?\")\n",
    "\n",
    "if weather != \"Rainy\":\n",
    "    print(\"Remember to water the garden\")\n",
    "else:\n",
    "    print(\"No need to water today\")"
   ]
  },
  {
   "cell_type": "markdown",
   "id": "fe7ff19e",
   "metadata": {},
   "source": [
    "## 18. If and Elif must specify conditions, Else must *not*"
   ]
  },
  {
   "cell_type": "markdown",
   "id": "7b9a40b7",
   "metadata": {},
   "source": [
    "The logic of a simple if/else statement is based off of one condition (specified after the if). It is essentially if *this condition is true*, do something. Else, do something else. Notice that in an if/else, *one* of these blocks of code always executes, because a condition (as we define them in Python, not necessarily in life) will always be either True or False. Never both, and never neither. This is also emphasized in the design of the Boolean variable with only two possible values: True or False.\n",
    "    \n",
    "Thus, if we try to have an if/else statement where we don't specify a condition after the *if*, then Python is left asking \"If what?!\", and gives us a syntax error. In contrast, if we try to specify a condition after an *else*, we also get an error -- Python says \"I already know under what conditions to execute this code: it's when the condition after my corresponding *if* is False!\". See the examples below illustrating this:"
   ]
  },
  {
   "cell_type": "code",
   "execution_count": 8,
   "id": "3759e02d",
   "metadata": {},
   "outputs": [
    {
     "ename": "SyntaxError",
     "evalue": "invalid syntax (3917843400.py, line 1)",
     "output_type": "error",
     "traceback": [
      "\u001b[0;36m  Cell \u001b[0;32mIn [8], line 1\u001b[0;36m\u001b[0m\n\u001b[0;31m    if:\u001b[0m\n\u001b[0m      ^\u001b[0m\n\u001b[0;31mSyntaxError\u001b[0m\u001b[0;31m:\u001b[0m invalid syntax\n"
     ]
    }
   ],
   "source": [
    "if:\n",
    "    print(\"Executing the if\")\n",
    "else:\n",
    "    print(\"Executing the else\")"
   ]
  },
  {
   "cell_type": "code",
   "execution_count": 9,
   "id": "be70046f",
   "metadata": {},
   "outputs": [
    {
     "ename": "SyntaxError",
     "evalue": "invalid syntax (651591469.py, line 5)",
     "output_type": "error",
     "traceback": [
      "\u001b[0;36m  Cell \u001b[0;32mIn [9], line 5\u001b[0;36m\u001b[0m\n\u001b[0;31m    else total cost <= 100:\u001b[0m\n\u001b[0m         ^\u001b[0m\n\u001b[0;31mSyntaxError\u001b[0m\u001b[0;31m:\u001b[0m invalid syntax\n"
     ]
    }
   ],
   "source": [
    "total_cost = 99\n",
    "\n",
    "if total_cost > 100:\n",
    "    print(\"Executing the if\")\n",
    "else total cost <= 100:\n",
    "    print(\"Executing the else\")"
   ]
  },
  {
   "cell_type": "markdown",
   "id": "159c75fb",
   "metadata": {},
   "source": [
    "And this fixes the issue:"
   ]
  },
  {
   "cell_type": "code",
   "execution_count": 10,
   "id": "1fd60382",
   "metadata": {},
   "outputs": [
    {
     "name": "stdout",
     "output_type": "stream",
     "text": [
      "Executing the else\n"
     ]
    }
   ],
   "source": [
    "total_cost = 99\n",
    "\n",
    "if total_cost > 100:\n",
    "    print(\"Executing the if\")\n",
    "else:\n",
    "    print(\"Executing the else\")"
   ]
  },
  {
   "cell_type": "markdown",
   "id": "bc31b135",
   "metadata": {},
   "source": [
    "We can think of *elif* as having the same requirements as the *if* in terms of requiring a condition after it (or else Python will be left asking the same question: \"Else if what?\"). Like the else, it must have a corresponding *if* above it at the same indentation, or it doesn't make sense by itself."
   ]
  },
  {
   "cell_type": "code",
   "execution_count": 11,
   "id": "db111ff3",
   "metadata": {},
   "outputs": [
    {
     "ename": "SyntaxError",
     "evalue": "invalid syntax (2037347234.py, line 5)",
     "output_type": "error",
     "traceback": [
      "\u001b[0;36m  Cell \u001b[0;32mIn [11], line 5\u001b[0;36m\u001b[0m\n\u001b[0;31m    elif:\u001b[0m\n\u001b[0m        ^\u001b[0m\n\u001b[0;31mSyntaxError\u001b[0m\u001b[0;31m:\u001b[0m invalid syntax\n"
     ]
    }
   ],
   "source": [
    "total_cost = 99\n",
    "\n",
    "if total_cost > 100:\n",
    "    print(\"Executing the if\")\n",
    "elif:\n",
    "    print(\"Executing the first elif\")\n",
    "elif:\n",
    "    print(\"Executing the second elif\")\n",
    "else:\n",
    "    print(\"Executing the else\")"
   ]
  },
  {
   "cell_type": "markdown",
   "id": "63a681c3",
   "metadata": {},
   "source": [
    "This program only works when we add the conditions for each elif:"
   ]
  },
  {
   "cell_type": "code",
   "execution_count": 12,
   "id": "9277ce00",
   "metadata": {},
   "outputs": [
    {
     "name": "stdout",
     "output_type": "stream",
     "text": [
      "Executing the first elif\n"
     ]
    }
   ],
   "source": [
    "total_cost = 99\n",
    "\n",
    "if total_cost > 100:\n",
    "    print(\"Executing the if\")\n",
    "elif total_cost > 75:\n",
    "    print(\"Executing the first elif\")\n",
    "elif total_cost > 50:\n",
    "    print(\"Executing the second elif\")\n",
    "else:\n",
    "    print(\"Executing the else\")"
   ]
  },
  {
   "cell_type": "markdown",
   "id": "36f0e3d0",
   "metadata": {},
   "source": [
    "## 19. = vs. =="
   ]
  },
  {
   "cell_type": "markdown",
   "id": "177656e7",
   "metadata": {},
   "source": [
    "The single = is the assignment operator. It is used to assign a value (on its right side) to a variable (whose name is to its left). That’s it! It’s **never** used to check whether two things are equal like it is used in mathematics, and everywhere else you’ve seen it before. To check whether two things are equal in Python, we put the double == between two values or expressions. If you accidentally mix up the two, you’ll likely get an error that looks like the following:"
   ]
  },
  {
   "cell_type": "code",
   "execution_count": 13,
   "id": "02a002e2",
   "metadata": {},
   "outputs": [
    {
     "ename": "SyntaxError",
     "evalue": "invalid syntax (2763386585.py, line 4)",
     "output_type": "error",
     "traceback": [
      "\u001b[0;36m  Cell \u001b[0;32mIn [13], line 4\u001b[0;36m\u001b[0m\n\u001b[0;31m    if x = y*2:\u001b[0m\n\u001b[0m         ^\u001b[0m\n\u001b[0;31mSyntaxError\u001b[0m\u001b[0;31m:\u001b[0m invalid syntax\n"
     ]
    }
   ],
   "source": [
    "x = 10\n",
    "y = 5\n",
    "\n",
    "if x = y*2:\n",
    "    print(\"x is double the value of y\")"
   ]
  },
  {
   "cell_type": "markdown",
   "id": "277a2ba3",
   "metadata": {},
   "source": [
    "In the above example, the programmer meant to check if the value of x was equal to double that of y as the condition for the if statement. However, a syntax error occurs because an if statement is expecting a condition (an expression that evaluates to a Boolean value of True/False) – you can’t assign a variable here."
   ]
  },
  {
   "cell_type": "code",
   "execution_count": 14,
   "id": "0ab5d483",
   "metadata": {},
   "outputs": [
    {
     "ename": "NameError",
     "evalue": "name 'x' is not defined",
     "output_type": "error",
     "traceback": [
      "\u001b[0;31m---------------------------------------------------------------------------\u001b[0m",
      "\u001b[0;31mNameError\u001b[0m                                 Traceback (most recent call last)",
      "Cell \u001b[0;32mIn [14], line 1\u001b[0m\n\u001b[0;32m----> 1\u001b[0m \u001b[43mx\u001b[49m \u001b[38;5;241m==\u001b[39m \u001b[38;5;241m10\u001b[39m\n\u001b[1;32m      2\u001b[0m y \u001b[38;5;241m==\u001b[39m \u001b[38;5;241m5\u001b[39m\n\u001b[1;32m      4\u001b[0m \u001b[38;5;28;01mif\u001b[39;00m x \u001b[38;5;241m==\u001b[39m y\u001b[38;5;241m*\u001b[39m\u001b[38;5;241m2\u001b[39m:\n",
      "\u001b[0;31mNameError\u001b[0m: name 'x' is not defined"
     ]
    }
   ],
   "source": [
    "x == 10\n",
    "y == 5\n",
    "\n",
    "if x == y*2:\n",
    "    print(\"x is double the value of y\")"
   ]
  },
  {
   "cell_type": "markdown",
   "id": "02768a81",
   "metadata": {},
   "source": [
    "Above, the programmer meant to assign the value 10 to a new variable x, but Python interpreted this line as asking whether or not the value of a variable x (which is not defined yet) is equal to 10."
   ]
  },
  {
   "cell_type": "markdown",
   "id": "491d578a",
   "metadata": {},
   "source": [
    "The correct version of this program below illustrates the difference between = and ==:"
   ]
  },
  {
   "cell_type": "code",
   "execution_count": 15,
   "id": "2dc44e11",
   "metadata": {},
   "outputs": [
    {
     "name": "stdout",
     "output_type": "stream",
     "text": [
      "x is double the value of y\n"
     ]
    }
   ],
   "source": [
    "x = 10\n",
    "y = 5\n",
    "\n",
    "if x == y*2:\n",
    "    print(\"x is double the value of y\")"
   ]
  },
  {
   "cell_type": "markdown",
   "id": "6dbd3724",
   "metadata": {},
   "source": [
    "## 20. Comma Concatenation can Only be Used inside print()"
   ]
  },
  {
   "cell_type": "markdown",
   "id": "8ef6fbd2",
   "metadata": {},
   "source": [
    "Concatenating strings must be done using a plus sign, unless it is happening inside a call to print() in which case either works. See below:"
   ]
  },
  {
   "cell_type": "code",
   "execution_count": 16,
   "id": "f79443d3",
   "metadata": {},
   "outputs": [
    {
     "name": "stdout",
     "output_type": "stream",
     "text": [
      "Total:  9.0\n"
     ]
    }
   ],
   "source": [
    "amount = 9.0\n",
    "print(\"Total: \", amount)"
   ]
  },
  {
   "cell_type": "code",
   "execution_count": 17,
   "id": "e41c11d7",
   "metadata": {},
   "outputs": [
    {
     "name": "stdout",
     "output_type": "stream",
     "text": [
      "Total: 9.0\n"
     ]
    }
   ],
   "source": [
    "amount = 9.0\n",
    "print(\"Total: \" + str(amount))"
   ]
  },
  {
   "cell_type": "markdown",
   "id": "15f897cf",
   "metadata": {},
   "source": [
    "We can see above that we can use either + or , to concatenate inside a print() statement. However, if we want to combine two strings into one variable, it's a different story:"
   ]
  },
  {
   "cell_type": "code",
   "execution_count": 19,
   "id": "b9252956",
   "metadata": {},
   "outputs": [
    {
     "name": "stdout",
     "output_type": "stream",
     "text": [
      "('Total: ', 9.0)\n"
     ]
    }
   ],
   "source": [
    "amount = 9.0\n",
    "output_string = \"Total: \", amount\n",
    "print(output_string)"
   ]
  },
  {
   "cell_type": "markdown",
   "id": "53722a0c",
   "metadata": {},
   "source": [
    "This did *not* concatenate the two values above, but instead created a new tuple (we learn about this datatype later in the course) with the two values. "
   ]
  },
  {
   "cell_type": "code",
   "execution_count": 20,
   "id": "0ad343f1",
   "metadata": {},
   "outputs": [
    {
     "ename": "TypeError",
     "evalue": "can only concatenate str (not \"float\") to str",
     "output_type": "error",
     "traceback": [
      "\u001b[0;31m---------------------------------------------------------------------------\u001b[0m",
      "\u001b[0;31mTypeError\u001b[0m                                 Traceback (most recent call last)",
      "Cell \u001b[0;32mIn [20], line 2\u001b[0m\n\u001b[1;32m      1\u001b[0m amount \u001b[38;5;241m=\u001b[39m \u001b[38;5;241m9.0\u001b[39m\n\u001b[0;32m----> 2\u001b[0m output_string \u001b[38;5;241m=\u001b[39m \u001b[38;5;124;43m\"\u001b[39;49m\u001b[38;5;124;43mTotal: \u001b[39;49m\u001b[38;5;124;43m\"\u001b[39;49m\u001b[43m \u001b[49m\u001b[38;5;241;43m+\u001b[39;49m\u001b[43m \u001b[49m\u001b[43mamount\u001b[49m\n\u001b[1;32m      3\u001b[0m \u001b[38;5;28mprint\u001b[39m(output_string)\n",
      "\u001b[0;31mTypeError\u001b[0m: can only concatenate str (not \"float\") to str"
     ]
    }
   ],
   "source": [
    "amount = 9.0\n",
    "output_string = \"Total: \" + amount\n",
    "print(output_string)"
   ]
  },
  {
   "cell_type": "code",
   "execution_count": 21,
   "id": "279628b3",
   "metadata": {},
   "outputs": [
    {
     "name": "stdout",
     "output_type": "stream",
     "text": [
      "Total: 9.0\n"
     ]
    }
   ],
   "source": [
    "amount = 9.0\n",
    "output_string = \"Total: \" + str(amount)\n",
    "print(output_string)"
   ]
  },
  {
   "cell_type": "markdown",
   "id": "826cffb9",
   "metadata": {},
   "source": [
    "As we can see above, the way to get to our desired result is using the + to concatenate, remembering to convert all non-string values to strings using str() for type conversion."
   ]
  },
  {
   "cell_type": "markdown",
   "id": "7b30b63e",
   "metadata": {},
   "source": [
    "## 21. Invalid character '≤' (U+2264)"
   ]
  },
  {
   "cell_type": "markdown",
   "id": "ea929e77",
   "metadata": {},
   "source": [
    "If we try to use a character that python doesn't recognize (usually a mathematical symbol), like ≤ or √, we'll get this error:"
   ]
  },
  {
   "cell_type": "code",
   "execution_count": 22,
   "id": "776bb6fe",
   "metadata": {},
   "outputs": [
    {
     "ename": "SyntaxError",
     "evalue": "invalid character '≤' (U+2264) (3547853289.py, line 4)",
     "output_type": "error",
     "traceback": [
      "\u001b[0;36m  Cell \u001b[0;32mIn [22], line 4\u001b[0;36m\u001b[0m\n\u001b[0;31m    if x ≤ y:\u001b[0m\n\u001b[0m         ^\u001b[0m\n\u001b[0;31mSyntaxError\u001b[0m\u001b[0;31m:\u001b[0m invalid character '≤' (U+2264)\n"
     ]
    }
   ],
   "source": [
    "x = 5\n",
    "y = 8\n",
    "\n",
    "if x ≤ y:\n",
    "    print(\"Lower\")\n",
    "else:\n",
    "    print(\"Higher\")"
   ]
  },
  {
   "cell_type": "markdown",
   "id": "dc016baa",
   "metadata": {},
   "source": [
    "We can correct this by using the Python equivalent for these characters (if you aren't sure what the equivalent is, ask on the discussion board!). For example, our set of relational operators defines less than or equal to as <=, and greater than or equal to as >=."
   ]
  },
  {
   "cell_type": "code",
   "execution_count": 23,
   "id": "0bdf89d0",
   "metadata": {},
   "outputs": [
    {
     "name": "stdout",
     "output_type": "stream",
     "text": [
      "Lower\n"
     ]
    }
   ],
   "source": [
    "x = 5\n",
    "y = 8\n",
    "\n",
    "if x <= y:\n",
    "    print(\"Lower\")\n",
    "else:\n",
    "    print(\"Higher\")"
   ]
  },
  {
   "cell_type": "markdown",
   "id": "f0ba8885",
   "metadata": {},
   "source": [
    "## 22. Relational Operator Syntax"
   ]
  },
  {
   "cell_type": "markdown",
   "id": "74f1680c",
   "metadata": {},
   "source": [
    "We have six relational operators that we can use to compare two values. There are syntax rules around using these: our expressions using relational operators must be structured with *one* relational operator between *two* values (or expressions that evaluate to one value). "
   ]
  },
  {
   "cell_type": "code",
   "execution_count": 24,
   "id": "8f19cbf5",
   "metadata": {},
   "outputs": [
    {
     "ename": "SyntaxError",
     "evalue": "invalid syntax (4005696790.py, line 3)",
     "output_type": "error",
     "traceback": [
      "\u001b[0;36m  Cell \u001b[0;32mIn [24], line 3\u001b[0;36m\u001b[0m\n\u001b[0;31m    if x == <10:\u001b[0m\n\u001b[0m            ^\u001b[0m\n\u001b[0;31mSyntaxError\u001b[0m\u001b[0;31m:\u001b[0m invalid syntax\n"
     ]
    }
   ],
   "source": [
    "x = 9\n",
    "\n",
    "if x == <10:\n",
    "    print(\"Single digit\")"
   ]
  },
  {
   "cell_type": "markdown",
   "id": "23a86969",
   "metadata": {},
   "source": [
    "In line 3 of the code above, we may be tempted to read this as \"if x is less than 10\", with the \"is\" being the == relational operator. However, we get a syntax error as soon as python sees two relational operators in a row. The corrected way to translate this is as follows:"
   ]
  },
  {
   "cell_type": "code",
   "execution_count": 25,
   "id": "70e298a7",
   "metadata": {},
   "outputs": [
    {
     "name": "stdout",
     "output_type": "stream",
     "text": [
      "Single digit\n"
     ]
    }
   ],
   "source": [
    "x = 9\n",
    "\n",
    "# If x is less than 10\n",
    "if x <10:\n",
    "    print(\"Single digit\")\n",
    "\n",
    "# If x is equal to 10\n",
    "if x == 10:\n",
    "    print(\"Ten\")"
   ]
  },
  {
   "cell_type": "markdown",
   "id": "465adc13",
   "metadata": {},
   "source": [
    "## 23. Can not return outside of a function"
   ]
  },
  {
   "cell_type": "markdown",
   "id": "7d0aff8e",
   "metadata": {},
   "source": [
    "The return keyword can only be used inside of a function when we want to \"leave\" and return to the place where we had called the function. If we try to use return when we are not currently in a function, we get an error -- Python doesn't know where you want to return to!"
   ]
  },
  {
   "cell_type": "code",
   "execution_count": 8,
   "id": "d1423279",
   "metadata": {},
   "outputs": [
    {
     "ename": "SyntaxError",
     "evalue": "'return' outside function (271703180.py, line 4)",
     "output_type": "error",
     "traceback": [
      "\u001b[0;36m  Cell \u001b[0;32mIn [8], line 4\u001b[0;36m\u001b[0m\n\u001b[0;31m    return \"Freezing!\"\u001b[0m\n\u001b[0m    ^\u001b[0m\n\u001b[0;31mSyntaxError\u001b[0m\u001b[0;31m:\u001b[0m 'return' outside function\n"
     ]
    }
   ],
   "source": [
    "temp = 19\n",
    "\n",
    "if temp < 32:\n",
    "    return \"Freezing!\""
   ]
  },
  {
   "cell_type": "markdown",
   "id": "78d7d3ca",
   "metadata": {},
   "source": [
    "In the case above, we probably just want to print the result:"
   ]
  },
  {
   "cell_type": "code",
   "execution_count": 9,
   "id": "0e99946b",
   "metadata": {},
   "outputs": [
    {
     "name": "stdout",
     "output_type": "stream",
     "text": [
      "Freezing!\n"
     ]
    }
   ],
   "source": [
    "temp = 19\n",
    "\n",
    "if temp < 32:\n",
    "    print(\"Freezing!\")"
   ]
  },
  {
   "cell_type": "markdown",
   "id": "e7bcbfdc",
   "metadata": {},
   "source": [
    "However, we could also define a function that would return the value:"
   ]
  },
  {
   "cell_type": "code",
   "execution_count": 11,
   "id": "5f0506ba",
   "metadata": {},
   "outputs": [
    {
     "name": "stdout",
     "output_type": "stream",
     "text": [
      "Freezing!\n"
     ]
    }
   ],
   "source": [
    "my_temp = 19\n",
    "\n",
    "def detect_freezing(temp):\n",
    "    if temp < 32:\n",
    "        return \"Freezing!\"\n",
    "\n",
    "result = detect_freezing(my_temp)\n",
    "print(result)"
   ]
  },
  {
   "cell_type": "markdown",
   "id": "d3e5150c",
   "metadata": {},
   "source": [
    "## 24. Using a Function Name, not a Function Call"
   ]
  },
  {
   "cell_type": "markdown",
   "id": "0558c212",
   "metadata": {},
   "source": [
    "To use a function, we need to call it. A function call consists of several parts: first the function name, then parentheses, and any arguments inside those parentheses. \n",
    "\n",
    "If we leave out components of the function call, such as in the example below where only the function name is given (in line 5), this can cause issues. The value associated with the function name is the function itself, whereas what we usually want is the result of a call to the function (the return value). \n",
    "\n",
    "Here, the error appears when we try to subtract the value of the variable user_yob (which we assigned to the function itself) from an integer. Python tells us in the error message: I don't know how to subtract a function from an integer!"
   ]
  },
  {
   "cell_type": "code",
   "execution_count": 14,
   "id": "a7898ec1",
   "metadata": {},
   "outputs": [
    {
     "ename": "TypeError",
     "evalue": "unsupported operand type(s) for -: 'int' and 'function'",
     "output_type": "error",
     "traceback": [
      "\u001b[0;31m---------------------------------------------------------------------------\u001b[0m",
      "\u001b[0;31mTypeError\u001b[0m                                 Traceback (most recent call last)",
      "Cell \u001b[0;32mIn [14], line 6\u001b[0m\n\u001b[1;32m      3\u001b[0m     \u001b[38;5;28;01mreturn\u001b[39;00m year\n\u001b[1;32m      5\u001b[0m user_yob \u001b[38;5;241m=\u001b[39m get_yob\n\u001b[0;32m----> 6\u001b[0m age \u001b[38;5;241m=\u001b[39m \u001b[38;5;241;43m2023\u001b[39;49m\u001b[43m \u001b[49m\u001b[38;5;241;43m-\u001b[39;49m\u001b[43m \u001b[49m\u001b[43muser_yob\u001b[49m\n\u001b[1;32m      8\u001b[0m \u001b[38;5;28mprint\u001b[39m(\u001b[38;5;124m\"\u001b[39m\u001b[38;5;124mAge:\u001b[39m\u001b[38;5;124m\"\u001b[39m, age)\n",
      "\u001b[0;31mTypeError\u001b[0m: unsupported operand type(s) for -: 'int' and 'function'"
     ]
    }
   ],
   "source": [
    "def get_yob():\n",
    "    year = int(input(\"Enter year of birth: \"))\n",
    "    return year\n",
    "\n",
    "user_yob = get_yob\n",
    "age = 2023 - user_yob\n",
    "\n",
    "print(\"Age:\", age)"
   ]
  },
  {
   "cell_type": "markdown",
   "id": "1bec8ce2",
   "metadata": {},
   "source": [
    "We can resolve this by adding the other necessary components of the function call -- in this case, just parentheses, since the function has no parameters."
   ]
  },
  {
   "cell_type": "code",
   "execution_count": 15,
   "id": "74046496",
   "metadata": {},
   "outputs": [
    {
     "name": "stdout",
     "output_type": "stream",
     "text": [
      "Enter year of birth: 1956\n",
      "Age: 67\n"
     ]
    }
   ],
   "source": [
    "# Solution\n",
    "def get_yob():\n",
    "    year = int(input(\"Enter year of birth: \"))\n",
    "    return year\n",
    "\n",
    "user_yob = get_yob()\n",
    "age = 2023 - user_yob\n",
    "\n",
    "print(\"Age:\", age)"
   ]
  },
  {
   "cell_type": "markdown",
   "id": "d498eeb1",
   "metadata": {},
   "source": [
    "Though no error, a strange thing also happens when we try to print a function (using just its name), instead of a function call:"
   ]
  },
  {
   "cell_type": "code",
   "execution_count": 42,
   "id": "db34154f",
   "metadata": {},
   "outputs": [
    {
     "name": "stdout",
     "output_type": "stream",
     "text": [
      "<function area_of_triangle at 0x103bb64c0>\n"
     ]
    }
   ],
   "source": [
    "def area_of_triangle(base, height):\n",
    "    area = 0.5 * base * height\n",
    "    return area\n",
    "\n",
    "print(area_of_triangle)"
   ]
  },
  {
   "cell_type": "markdown",
   "id": "522c456c",
   "metadata": {},
   "source": [
    "This is not an error! Python is simply doing exactly what we asked it to do. Recall that in our memory diagrams, we add functions to the global frame like variables, and their values are actually pointers to an address where their information is stored (we draw an arrow to objects to represent this). So, when we ask Python to print the value of a function, it is actually printing this value: it literally says \"My value is a function called area_of_triangle at this address in memory\" (note that 0x103bb64c0 is an address in memory written in hex notation, which is a shortened way of representing 32 0s and 1s). "
   ]
  },
  {
   "cell_type": "markdown",
   "id": "a8dd3ac7",
   "metadata": {},
   "source": [
    "Likely, you meant to print the result of calling your function, not its value like we see above:"
   ]
  },
  {
   "cell_type": "code",
   "execution_count": 43,
   "id": "dd021265",
   "metadata": {},
   "outputs": [
    {
     "name": "stdout",
     "output_type": "stream",
     "text": [
      "17.5\n"
     ]
    }
   ],
   "source": [
    "# Solution\n",
    "def area_of_triangle(base, height):\n",
    "    area = 0.5 * base * height\n",
    "    return area\n",
    "\n",
    "print(area_of_triangle(5,7))"
   ]
  },
  {
   "cell_type": "markdown",
   "id": "7024c7d1",
   "metadata": {},
   "source": [
    "Note that even if our function has 0 parameters, we still need the parentheses to indicate that it is a function call:"
   ]
  },
  {
   "cell_type": "code",
   "execution_count": 44,
   "id": "01aab71b",
   "metadata": {},
   "outputs": [
    {
     "name": "stdout",
     "output_type": "stream",
     "text": [
      "<function greeting at 0x103bb6ca0>\n"
     ]
    }
   ],
   "source": [
    "def greeting():\n",
    "    return \"Good morning!\"\n",
    "\n",
    "print(greeting)"
   ]
  },
  {
   "cell_type": "code",
   "execution_count": 45,
   "id": "fd6ca348",
   "metadata": {},
   "outputs": [
    {
     "name": "stdout",
     "output_type": "stream",
     "text": [
      "Good morning!\n"
     ]
    }
   ],
   "source": [
    "def greeting():\n",
    "    return \"Good morning!\"\n",
    "\n",
    "print(greeting())"
   ]
  },
  {
   "cell_type": "markdown",
   "id": "fdcef56d",
   "metadata": {},
   "source": [
    "## 25. Doing type conversion too late"
   ]
  },
  {
   "cell_type": "markdown",
   "id": "c2eef6fc",
   "metadata": {},
   "source": [
    "When getting a number from the user as input (which comes in as a String), the input value must be converted to a number *before* it can be used like a number. See the following errors that can occur:"
   ]
  },
  {
   "cell_type": "code",
   "execution_count": 5,
   "id": "781fa13b",
   "metadata": {},
   "outputs": [
    {
     "name": "stdout",
     "output_type": "stream",
     "text": [
      "Enter a number: 4\n",
      "444\n"
     ]
    }
   ],
   "source": [
    "# Example 1\n",
    "number = input(\"Enter a number: \")\n",
    "multiplied = int(number * 3)\n",
    "print(multiplied)"
   ]
  },
  {
   "cell_type": "markdown",
   "id": "6f77236a",
   "metadata": {},
   "source": [
    "What we wanted to do in the program above was multiply the number 4, not the string \"4\". So, we have to do type conversion from string \"4\" to int 4 before it is multiplied. Either of the following work:"
   ]
  },
  {
   "cell_type": "code",
   "execution_count": 6,
   "id": "4fe828c4",
   "metadata": {},
   "outputs": [
    {
     "name": "stdout",
     "output_type": "stream",
     "text": [
      "Enter a number: 4\n",
      "12\n"
     ]
    }
   ],
   "source": [
    "# Example 1 Solution A\n",
    "number = int(input(\"Enter a number: \"))\n",
    "multiplied = number * 3\n",
    "print(multiplied)"
   ]
  },
  {
   "cell_type": "code",
   "execution_count": 7,
   "id": "e086a983",
   "metadata": {},
   "outputs": [
    {
     "name": "stdout",
     "output_type": "stream",
     "text": [
      "Enter a number: 4\n",
      "12\n"
     ]
    }
   ],
   "source": [
    "# Example 1 Solution B\n",
    "number = input(\"Enter a number: \")\n",
    "multiplied = int(number) * 3\n",
    "print(multiplied)"
   ]
  },
  {
   "cell_type": "markdown",
   "id": "920ca338",
   "metadata": {},
   "source": [
    "The program will result in an error if we had made this mistake and tried to use an operand that is incompatible with the input in it's string form:"
   ]
  },
  {
   "cell_type": "code",
   "execution_count": 8,
   "id": "4877f59a",
   "metadata": {},
   "outputs": [
    {
     "name": "stdout",
     "output_type": "stream",
     "text": [
      "Enter a number: 8\n",
      "Enter another number: 3\n"
     ]
    },
    {
     "ename": "TypeError",
     "evalue": "unsupported operand type(s) for -: 'str' and 'str'",
     "output_type": "error",
     "traceback": [
      "\u001b[0;31m---------------------------------------------------------------------------\u001b[0m",
      "\u001b[0;31mTypeError\u001b[0m                                 Traceback (most recent call last)",
      "Cell \u001b[0;32mIn [8], line 3\u001b[0m\n\u001b[1;32m      1\u001b[0m num1 \u001b[38;5;241m=\u001b[39m \u001b[38;5;28minput\u001b[39m(\u001b[38;5;124m\"\u001b[39m\u001b[38;5;124mEnter a number: \u001b[39m\u001b[38;5;124m\"\u001b[39m)\n\u001b[1;32m      2\u001b[0m num2 \u001b[38;5;241m=\u001b[39m \u001b[38;5;28minput\u001b[39m(\u001b[38;5;124m\"\u001b[39m\u001b[38;5;124mEnter another number: \u001b[39m\u001b[38;5;124m\"\u001b[39m)\n\u001b[0;32m----> 3\u001b[0m subtracted \u001b[38;5;241m=\u001b[39m \u001b[38;5;28mint\u001b[39m(\u001b[43mnum1\u001b[49m\u001b[43m \u001b[49m\u001b[38;5;241;43m-\u001b[39;49m\u001b[43m \u001b[49m\u001b[43mnum2\u001b[49m)\n",
      "\u001b[0;31mTypeError\u001b[0m: unsupported operand type(s) for -: 'str' and 'str'"
     ]
    }
   ],
   "source": [
    "# Example 2\n",
    "num1 = input(\"Enter a number: \")\n",
    "num2 = input(\"Enter another number: \")\n",
    "subtracted = int(num1 - num2)"
   ]
  },
  {
   "cell_type": "markdown",
   "id": "c9bbe124",
   "metadata": {},
   "source": [
    "The error message is telling us that subtraction is an unsupported operator for two strings (num1 and num2 are still strings at the time we try to subtract them). We can fix this as follows:"
   ]
  },
  {
   "cell_type": "code",
   "execution_count": 10,
   "id": "c5d22a94",
   "metadata": {},
   "outputs": [
    {
     "name": "stdout",
     "output_type": "stream",
     "text": [
      "Enter a number: 8\n",
      "Enter another number: 3\n",
      "5\n"
     ]
    }
   ],
   "source": [
    "# Example 2 Solution A\n",
    "num1 = int(input(\"Enter a number: \"))\n",
    "num2 = int(input(\"Enter another number: \"))\n",
    "subtracted = num1 - num2\n",
    "print(subtracted)"
   ]
  },
  {
   "cell_type": "code",
   "execution_count": 11,
   "id": "6c0a0fa7",
   "metadata": {},
   "outputs": [
    {
     "name": "stdout",
     "output_type": "stream",
     "text": [
      "Enter a number: 8\n",
      "Enter another number: 3\n",
      "5\n"
     ]
    }
   ],
   "source": [
    "# Example 2 Solution B\n",
    "num1 = input(\"Enter a number: \")\n",
    "num2 = input(\"Enter another number: \")\n",
    "subtracted = int(num1) - int(num2)\n",
    "print(subtracted)"
   ]
  },
  {
   "cell_type": "markdown",
   "id": "716295ca",
   "metadata": {},
   "source": [
    "## 26. Missing colon"
   ]
  },
  {
   "cell_type": "markdown",
   "id": "a5fef041",
   "metadata": {},
   "source": [
    "We need to put colons at the ends of certain types of instructions (and *only* these ones): Function definitions (starting with def), and if/elif/else. If we forget to put the colon, we get a Syntax error:"
   ]
  },
  {
   "cell_type": "code",
   "execution_count": 34,
   "id": "294d3413",
   "metadata": {},
   "outputs": [
    {
     "ename": "SyntaxError",
     "evalue": "invalid syntax (615496331.py, line 1)",
     "output_type": "error",
     "traceback": [
      "\u001b[0;36m  Cell \u001b[0;32mIn [34], line 1\u001b[0;36m\u001b[0m\n\u001b[0;31m    def area_of_triangle(base, height)\u001b[0m\n\u001b[0m                                      ^\u001b[0m\n\u001b[0;31mSyntaxError\u001b[0m\u001b[0;31m:\u001b[0m invalid syntax\n"
     ]
    }
   ],
   "source": [
    "def area_of_triangle(base, height)\n",
    "    area = 0.5 * base * height\n",
    "    return area\n",
    "\n",
    "print(area_of_triangle(5,7))"
   ]
  },
  {
   "cell_type": "code",
   "execution_count": 35,
   "id": "471134b1",
   "metadata": {},
   "outputs": [
    {
     "name": "stdout",
     "output_type": "stream",
     "text": [
      "17.5\n"
     ]
    }
   ],
   "source": [
    "# Solution\n",
    "def area_of_triangle(base, height):\n",
    "    area = 0.5 * base * height\n",
    "    return area\n",
    "\n",
    "print(area_of_triangle(5,7))"
   ]
  },
  {
   "cell_type": "code",
   "execution_count": 40,
   "id": "cbee3d99",
   "metadata": {},
   "outputs": [
    {
     "ename": "SyntaxError",
     "evalue": "invalid syntax (4108774024.py, line 3)",
     "output_type": "error",
     "traceback": [
      "\u001b[0;36m  Cell \u001b[0;32mIn [40], line 3\u001b[0;36m\u001b[0m\n\u001b[0;31m    if answer == \"Yes\"\u001b[0m\n\u001b[0m                      ^\u001b[0m\n\u001b[0;31mSyntaxError\u001b[0m\u001b[0;31m:\u001b[0m invalid syntax\n"
     ]
    }
   ],
   "source": [
    "answer = input(\"Would you like to hear the weather? \")\n",
    "\n",
    "if answer == \"Yes\"\n",
    "    print(\"It's sunny today\")\n",
    "elif answer == \"No\"\n",
    "    print(\"Okay, no problem.\")\n",
    "else\n",
    "    print(\"Sorry, I only understand Yes or No\")"
   ]
  },
  {
   "cell_type": "code",
   "execution_count": 41,
   "id": "7cf4f5d4",
   "metadata": {},
   "outputs": [
    {
     "name": "stdout",
     "output_type": "stream",
     "text": [
      "Would you like to hear the weather? Maybe\n",
      "Sorry, I only understand Yes or No\n"
     ]
    }
   ],
   "source": [
    "# Solution\n",
    "answer = input(\"Would you like to hear the weather? \")\n",
    "\n",
    "if answer == \"Yes\":\n",
    "    print(\"It's sunny today\")\n",
    "elif answer == \"No\":\n",
    "    print(\"Okay, no problem.\")\n",
    "else:\n",
    "    print(\"Sorry, I only understand Yes or No\")"
   ]
  },
  {
   "cell_type": "markdown",
   "id": "3a7a8dcd",
   "metadata": {},
   "source": [
    "## 27. >= and <="
   ]
  },
  {
   "cell_type": "markdown",
   "id": "38d9a94d",
   "metadata": {},
   "source": [
    "If you're here, congratulations! You've found one of the easiest fixes. Python is picky about the order in which we have our < and = when we want to use the \"less than or equal to\" relational operator (or greater than or equal to). If we put the = first, we'll get a Syntax error:"
   ]
  },
  {
   "cell_type": "code",
   "execution_count": 32,
   "id": "0ce51893",
   "metadata": {},
   "outputs": [
    {
     "ename": "SyntaxError",
     "evalue": "invalid syntax (237542540.py, line 4)",
     "output_type": "error",
     "traceback": [
      "\u001b[0;36m  Cell \u001b[0;32mIn [32], line 4\u001b[0;36m\u001b[0m\n\u001b[0;31m    if x => y:\u001b[0m\n\u001b[0m         ^\u001b[0m\n\u001b[0;31mSyntaxError\u001b[0m\u001b[0;31m:\u001b[0m invalid syntax\n"
     ]
    }
   ],
   "source": [
    "x = 10\n",
    "y = 5\n",
    "\n",
    "if x => y:\n",
    "    print(\"Yes\")\n",
    "    \n",
    "if x =< y:\n",
    "    print(\"No\")"
   ]
  },
  {
   "cell_type": "markdown",
   "id": "5dbcb755",
   "metadata": {},
   "source": [
    "We fix this by making sure the < or > comes before the =:"
   ]
  },
  {
   "cell_type": "code",
   "execution_count": 33,
   "id": "1686da1b",
   "metadata": {},
   "outputs": [
    {
     "name": "stdout",
     "output_type": "stream",
     "text": [
      "Yes\n"
     ]
    }
   ],
   "source": [
    "x = 10\n",
    "y = 5\n",
    "\n",
    "if x >= y:\n",
    "    print(\"Yes\")\n",
    "    \n",
    "if x <= y:\n",
    "    print(\"No\")"
   ]
  },
  {
   "cell_type": "markdown",
   "id": "52b81578",
   "metadata": {},
   "source": [
    "## 28. Unexpected Indentation"
   ]
  },
  {
   "cell_type": "markdown",
   "id": "6378e37d",
   "metadata": {},
   "source": [
    "Indentation means something very specific in Python, and changes the way a program works. We indent the lines of code that we want inside a function, if/elif/else statement, or loop. If we indent a line of code somewhere that doesn't make sense (such as after a variable assignment), we get an “Unexpected Indentation” error:"
   ]
  },
  {
   "cell_type": "code",
   "execution_count": 12,
   "id": "93ae0980",
   "metadata": {},
   "outputs": [
    {
     "ename": "IndentationError",
     "evalue": "unexpected indent (1119623550.py, line 2)",
     "output_type": "error",
     "traceback": [
      "\u001b[0;36m  Cell \u001b[0;32mIn [12], line 2\u001b[0;36m\u001b[0m\n\u001b[0;31m    print(\"You are\", age, \"years old.\")\u001b[0m\n\u001b[0m    ^\u001b[0m\n\u001b[0;31mIndentationError\u001b[0m\u001b[0;31m:\u001b[0m unexpected indent\n"
     ]
    }
   ],
   "source": [
    "age = 10\n",
    "    print(\"You are\", age, \"years old.\")"
   ]
  },
  {
   "cell_type": "markdown",
   "id": "e7ba5172",
   "metadata": {},
   "source": [
    "Removing the unexpected indentation solves the issue:"
   ]
  },
  {
   "cell_type": "code",
   "execution_count": 13,
   "id": "e7e71558",
   "metadata": {},
   "outputs": [
    {
     "name": "stdout",
     "output_type": "stream",
     "text": [
      "You are 10 years old.\n"
     ]
    }
   ],
   "source": [
    "age = 10\n",
    "print(\"You are\", age, \"years old.\")"
   ]
  },
  {
   "cell_type": "markdown",
   "id": "7b93cf24",
   "metadata": {},
   "source": [
    "## 29. Unexpected Colon"
   ]
  },
  {
   "cell_type": "markdown",
   "id": "bd24e818",
   "metadata": {},
   "source": [
    "Similar to indentation (the error above, #28), we can *only* put colons after function definitions, if/elif/else, and loops. If we have them anywhere else (for example, after a function call), we get a syntax error:"
   ]
  },
  {
   "cell_type": "code",
   "execution_count": 15,
   "id": "34e17fc0",
   "metadata": {},
   "outputs": [
    {
     "ename": "SyntaxError",
     "evalue": "invalid syntax (2453610789.py, line 4)",
     "output_type": "error",
     "traceback": [
      "\u001b[0;36m  Cell \u001b[0;32mIn [15], line 4\u001b[0;36m\u001b[0m\n\u001b[0;31m    greeting(\"Emma\"):\u001b[0m\n\u001b[0m                     ^\u001b[0m\n\u001b[0;31mSyntaxError\u001b[0m\u001b[0;31m:\u001b[0m invalid syntax\n"
     ]
    }
   ],
   "source": [
    "# Example 1\n",
    "def greeting(name):\n",
    "    print(\"Hello, \" + name)\n",
    "\n",
    "greeting(\"Emma\"):"
   ]
  },
  {
   "cell_type": "code",
   "execution_count": 16,
   "id": "6891e9b4",
   "metadata": {},
   "outputs": [
    {
     "name": "stdout",
     "output_type": "stream",
     "text": [
      "Hello, Emma\n"
     ]
    }
   ],
   "source": [
    "# Solution\n",
    "def greeting(name):\n",
    "    print(\"Hello, \" + name)\n",
    "\n",
    "greeting(\"Emma\")"
   ]
  },
  {
   "cell_type": "code",
   "execution_count": 17,
   "id": "14526f02",
   "metadata": {},
   "outputs": [
    {
     "ename": "SyntaxError",
     "evalue": "invalid syntax (1724818068.py, line 2)",
     "output_type": "error",
     "traceback": [
      "\u001b[0;36m  Cell \u001b[0;32mIn [17], line 2\u001b[0;36m\u001b[0m\n\u001b[0;31m    x = 10:\u001b[0m\n\u001b[0m          ^\u001b[0m\n\u001b[0;31mSyntaxError\u001b[0m\u001b[0;31m:\u001b[0m invalid syntax\n"
     ]
    }
   ],
   "source": [
    "# Example 2\n",
    "x = 10:"
   ]
  },
  {
   "cell_type": "code",
   "execution_count": 18,
   "id": "c89c429f",
   "metadata": {},
   "outputs": [],
   "source": [
    "# Solution\n",
    "x = 10"
   ]
  },
  {
   "cell_type": "markdown",
   "id": "44f0d584",
   "metadata": {},
   "source": [
    "## 30. Boolean operators “and” and “or” treat expressions on either side as two separate conditional expressions"
   ]
  },
  {
   "cell_type": "markdown",
   "id": "dbf6e502",
   "metadata": {},
   "source": [
    "The boolean operators \"and\" and \"or\" create a dividing line between the expressions on either side of them, which they treat as completely separate when they go to evaluate if one or both of them are True. Thus, while the following expression makes sense in English, it doesn't make sense to Python:"
   ]
  },
  {
   "cell_type": "code",
   "execution_count": 1,
   "id": "ba0320d5",
   "metadata": {},
   "outputs": [
    {
     "ename": "SyntaxError",
     "evalue": "invalid syntax (4248488892.py, line 3)",
     "output_type": "error",
     "traceback": [
      "\u001b[0;36m  Cell \u001b[0;32mIn [1], line 3\u001b[0;36m\u001b[0m\n\u001b[0;31m    if temp < 32 or > 100:\u001b[0m\n\u001b[0m                    ^\u001b[0m\n\u001b[0;31mSyntaxError\u001b[0m\u001b[0;31m:\u001b[0m invalid syntax\n"
     ]
    }
   ],
   "source": [
    "temp = 19\n",
    "\n",
    "if temp < 32 or > 100:\n",
    "    print(\"Extreme weather! Take caution\")"
   ]
  },
  {
   "cell_type": "markdown",
   "id": "fa8221bb",
   "metadata": {},
   "source": [
    "We get an invalid syntax error because the expression > 100 by itself doesn't make sense: relational operators like > need a value on either side to compare. We need to explicitly give that value on both sides like this:"
   ]
  },
  {
   "cell_type": "code",
   "execution_count": 2,
   "id": "3aa65fce",
   "metadata": {},
   "outputs": [
    {
     "name": "stdout",
     "output_type": "stream",
     "text": [
      "Extreme weather! Take caution\n"
     ]
    }
   ],
   "source": [
    "temp = 19\n",
    "\n",
    "if temp < 32 or temp > 100:\n",
    "    print(\"Extreme weather! Take caution\")"
   ]
  },
  {
   "cell_type": "markdown",
   "id": "d7e28ce0",
   "metadata": {},
   "source": [
    "Now consider the example below, where a programmer wants to check if the user entered a valid answer, either “Yes” or “No”."
   ]
  },
  {
   "cell_type": "code",
   "execution_count": 3,
   "id": "d0e689a1",
   "metadata": {},
   "outputs": [
    {
     "name": "stdout",
     "output_type": "stream",
     "text": [
      "Enter Yes or No: No\n",
      "Not a valid answer.\n"
     ]
    }
   ],
   "source": [
    "answer = input(\"Enter Yes or No: \")\n",
    "\n",
    "if answer != \"Yes\" or \"No\":\n",
    "    print(\"Not a valid answer.\")\n",
    "else:\n",
    "    print(\"Thank you!\")"
   ]
  },
  {
   "cell_type": "markdown",
   "id": "2b82e5f2",
   "metadata": {},
   "source": [
    "The programmer writes line 2 meaning to say: **If answer is not equal to “Yes” or “No”**, then execute line 3 (which tells the user that their answer was invalid). However, we see that when the user entered “No”, which should be a valid answer, the conditional expression of the if statement on line 2 must have evaluated to True since the print statement on line 3 executed. \n",
    "\n",
    "This is because instead of interpreting line 2 as the programmer intended, Python reads line 2 as **If (answer != “Yes”) or (“No”)**\n",
    "\n",
    "Since the user entered “No”, we replace answer with its assigned value:\n",
    "\n",
    "**If (“No” != “Yes”) or (“No”)**\n",
    "\n",
    "The left expression simplifies to False, since “No” != “Yes”. Now, we are left with:\n",
    "\n",
    "**If (False) or (“No”)**\n",
    "\n",
    "Importantly, Python treats the value “No” here as a boolean because it is the expression on the right side of a boolean operator. Python has specific rules for whether to evaluate values of other data types to True or False:\n",
    "\n",
    "- Strings: True, unless it is the empty string (“”)\n",
    "- Ints/Floats: True, unless it is 0\n",
    "- Tuples/Lists/Sets: True, unless they are empty\n",
    "\t\n",
    "Therefore, Python evaluates “No” to True, since it is not an empty string. So, we are left with:\n",
    "\n",
    "**If (False) or (True)**\n",
    "\n",
    "Which finally results in True. That's why we got the unexpected result of the program telling us our answer was invalid, even though we entered a valid answer.\n",
    "\n",
    "We can fix the example above to work like the programmer intended by changing the if statement to the following:"
   ]
  },
  {
   "cell_type": "code",
   "execution_count": 4,
   "id": "85a2d1bf",
   "metadata": {},
   "outputs": [
    {
     "name": "stdout",
     "output_type": "stream",
     "text": [
      "Enter Yes or No: No\n",
      "Thank you!\n"
     ]
    }
   ],
   "source": [
    "answer = input(\"Enter Yes or No: \")\n",
    "\n",
    "if answer != \"Yes\" and answer != \"No\":\n",
    "    print(\"Not a valid answer.\")\n",
    "else:\n",
    "    print(\"Thank you!\")"
   ]
  },
  {
   "cell_type": "markdown",
   "id": "65b2406e",
   "metadata": {},
   "source": [
    "## 31. Adding a new line"
   ]
  },
  {
   "cell_type": "markdown",
   "id": "086832a8",
   "metadata": {},
   "source": [
    "We can insert a new line (like hitting the enter key when typing) into strings in Python using the following special character: \\n. However, this has to be a string itself -- see the following scenario:"
   ]
  },
  {
   "cell_type": "code",
   "execution_count": 16,
   "id": "6b5a92c0",
   "metadata": {},
   "outputs": [
    {
     "ename": "SyntaxError",
     "evalue": "unexpected character after line continuation character (850514556.py, line 1)",
     "output_type": "error",
     "traceback": [
      "\u001b[0;36m  Cell \u001b[0;32mIn [16], line 1\u001b[0;36m\u001b[0m\n\u001b[0;31m    multiline = \"Hello\" + \\n + \"How are you?\"\u001b[0m\n\u001b[0m                           ^\u001b[0m\n\u001b[0;31mSyntaxError\u001b[0m\u001b[0;31m:\u001b[0m unexpected character after line continuation character\n"
     ]
    }
   ],
   "source": [
    "multiline = \"Hello\" + \\n + \"How are you?\"\n",
    "print(multiline)"
   ]
  },
  {
   "cell_type": "markdown",
   "id": "5296b8be",
   "metadata": {},
   "source": [
    "We can fix this in either of the following ways:"
   ]
  },
  {
   "cell_type": "code",
   "execution_count": 17,
   "id": "1eaf925f",
   "metadata": {},
   "outputs": [
    {
     "name": "stdout",
     "output_type": "stream",
     "text": [
      "Hello\n",
      "How are you?\n"
     ]
    }
   ],
   "source": [
    "multiline = \"Hello\" + \"\\n\" + \"How are you?\"\n",
    "print(multiline)"
   ]
  },
  {
   "cell_type": "code",
   "execution_count": 18,
   "id": "244c558b",
   "metadata": {},
   "outputs": [
    {
     "name": "stdout",
     "output_type": "stream",
     "text": [
      "Hello\n",
      "How are you?\n"
     ]
    }
   ],
   "source": [
    "multiline = \"Hello\\nHow are you?\"\n",
    "print(multiline)"
   ]
  },
  {
   "cell_type": "markdown",
   "id": "f96faeb5",
   "metadata": {},
   "source": [
    "And we can also do this inside a print statement:"
   ]
  },
  {
   "cell_type": "code",
   "execution_count": 19,
   "id": "418b9ab4",
   "metadata": {},
   "outputs": [
    {
     "name": "stdout",
     "output_type": "stream",
     "text": [
      "Hello\n",
      "How are you?\n"
     ]
    }
   ],
   "source": [
    "print(\"Hello\\nHow are you?\")"
   ]
  },
  {
   "cell_type": "markdown",
   "id": "f6d63502",
   "metadata": {},
   "source": [
    " ## 32. Putting an = sign after a keyword"
   ]
  },
  {
   "cell_type": "markdown",
   "id": "b15a10bd",
   "metadata": {},
   "source": [
    "We'll get an error if we put an = after a keyword where it's not supposed to be. See the following examples with various keywords and solutions:"
   ]
  },
  {
   "cell_type": "code",
   "execution_count": 20,
   "id": "14ab86d6",
   "metadata": {},
   "outputs": [
    {
     "ename": "SyntaxError",
     "evalue": "invalid syntax (606211532.py, line 1)",
     "output_type": "error",
     "traceback": [
      "\u001b[0;36m  Cell \u001b[0;32mIn [20], line 1\u001b[0;36m\u001b[0m\n\u001b[0;31m    def = area_of_triangle(base, height):\u001b[0m\n\u001b[0m        ^\u001b[0m\n\u001b[0;31mSyntaxError\u001b[0m\u001b[0;31m:\u001b[0m invalid syntax\n"
     ]
    }
   ],
   "source": [
    "def = area_of_triangle(base, height):\n",
    "    return base*height*0.5\n",
    "\n",
    "print(area_of_triangle(5,7))"
   ]
  },
  {
   "cell_type": "code",
   "execution_count": 22,
   "id": "1a39c524",
   "metadata": {},
   "outputs": [
    {
     "name": "stdout",
     "output_type": "stream",
     "text": [
      "17.5\n"
     ]
    }
   ],
   "source": [
    "#Solution: remove = after def\n",
    "def area_of_triangle(base, height):\n",
    "    return base*height*0.5\n",
    "\n",
    "print(area_of_triangle(5,7))"
   ]
  },
  {
   "cell_type": "code",
   "execution_count": 23,
   "id": "ea83920e",
   "metadata": {},
   "outputs": [
    {
     "ename": "SyntaxError",
     "evalue": "invalid syntax (2831947421.py, line 2)",
     "output_type": "error",
     "traceback": [
      "\u001b[0;36m  Cell \u001b[0;32mIn [23], line 2\u001b[0;36m\u001b[0m\n\u001b[0;31m    return = base*height*0.5\u001b[0m\n\u001b[0m           ^\u001b[0m\n\u001b[0;31mSyntaxError\u001b[0m\u001b[0;31m:\u001b[0m invalid syntax\n"
     ]
    }
   ],
   "source": [
    "def area_of_triangle(base, height):\n",
    "    return = base*height*0.5\n",
    "\n",
    "print(area_of_triangle(5,7))"
   ]
  },
  {
   "cell_type": "code",
   "execution_count": 24,
   "id": "bdbc2b8b",
   "metadata": {},
   "outputs": [
    {
     "name": "stdout",
     "output_type": "stream",
     "text": [
      "17.5\n"
     ]
    }
   ],
   "source": [
    "# Solution: remove = after return\n",
    "def area_of_triangle(base, height):\n",
    "    return base*height*0.5\n",
    "\n",
    "print(area_of_triangle(5,7))"
   ]
  },
  {
   "cell_type": "code",
   "execution_count": 25,
   "id": "4100e869",
   "metadata": {},
   "outputs": [
    {
     "ename": "SyntaxError",
     "evalue": "invalid syntax (2549582299.py, line 3)",
     "output_type": "error",
     "traceback": [
      "\u001b[0;36m  Cell \u001b[0;32mIn [25], line 3\u001b[0;36m\u001b[0m\n\u001b[0;31m    if = temp < 32:\u001b[0m\n\u001b[0m       ^\u001b[0m\n\u001b[0;31mSyntaxError\u001b[0m\u001b[0;31m:\u001b[0m invalid syntax\n"
     ]
    }
   ],
   "source": [
    "temp = 19\n",
    "\n",
    "if = temp < 32:\n",
    "    print(\"Freezing!\")\n",
    "elif = temp > 100:\n",
    "    print(\"Burning!\")\n",
    "else:\n",
    "    \"Fine weather.\""
   ]
  },
  {
   "cell_type": "code",
   "execution_count": 26,
   "id": "46a2a015",
   "metadata": {},
   "outputs": [
    {
     "name": "stdout",
     "output_type": "stream",
     "text": [
      "Freezing!\n"
     ]
    }
   ],
   "source": [
    "# Solution: no = after if/elif/else\n",
    "if temp < 32:\n",
    "    print(\"Freezing!\")\n",
    "elif temp > 100:\n",
    "    print(\"Burning!\")\n",
    "else:\n",
    "    \"Fine weather.\""
   ]
  },
  {
   "cell_type": "markdown",
   "id": "7027031b",
   "metadata": {},
   "source": [
    "In summary, recall that the **only** time we use the =, also called \"the assignment operator\", is when we are assigning a value to a variable. That's it!"
   ]
  },
  {
   "cell_type": "markdown",
   "id": "8e9e9626",
   "metadata": {},
   "source": [
    "## 33. Elif or Else without an If"
   ]
  },
  {
   "cell_type": "markdown",
   "id": "cf8c56ee",
   "metadata": {},
   "source": [
    "Having an elif or an else without an if before it will cause an error. This makes sense logically (especially when we read elif as \"else if\"): if there is no if first, Python doesn't know what you mean be \"else\". See the examples below:"
   ]
  },
  {
   "cell_type": "code",
   "execution_count": 2,
   "id": "922f0cff",
   "metadata": {},
   "outputs": [
    {
     "name": "stdout",
     "output_type": "stream",
     "text": [
      "Freezing!\n"
     ]
    }
   ],
   "source": [
    "temp = 16\n",
    "\n",
    "if temp < 32:\n",
    "    print(\"Freezing!\")"
   ]
  },
  {
   "cell_type": "code",
   "execution_count": 3,
   "id": "dea1450a",
   "metadata": {},
   "outputs": [
    {
     "ename": "SyntaxError",
     "evalue": "invalid syntax (3488247737.py, line 3)",
     "output_type": "error",
     "traceback": [
      "\u001b[0;36m  Cell \u001b[0;32mIn [3], line 3\u001b[0;36m\u001b[0m\n\u001b[0;31m    elif temp < 32:\u001b[0m\n\u001b[0m    ^\u001b[0m\n\u001b[0;31mSyntaxError\u001b[0m\u001b[0;31m:\u001b[0m invalid syntax\n"
     ]
    }
   ],
   "source": [
    "temp = 16\n",
    "\n",
    "elif temp < 32:\n",
    "    print(\"Freezing!\")"
   ]
  },
  {
   "cell_type": "code",
   "execution_count": 4,
   "id": "b946dd66",
   "metadata": {},
   "outputs": [
    {
     "ename": "SyntaxError",
     "evalue": "invalid syntax (746095839.py, line 3)",
     "output_type": "error",
     "traceback": [
      "\u001b[0;36m  Cell \u001b[0;32mIn [4], line 3\u001b[0;36m\u001b[0m\n\u001b[0;31m    else:\u001b[0m\n\u001b[0m    ^\u001b[0m\n\u001b[0;31mSyntaxError\u001b[0m\u001b[0;31m:\u001b[0m invalid syntax\n"
     ]
    }
   ],
   "source": [
    "temp = 16\n",
    "\n",
    "else:\n",
    "    print(\"Freezing!\")"
   ]
  },
  {
   "cell_type": "markdown",
   "id": "0fd484b9",
   "metadata": {},
   "source": [
    "We see in the program above that if works by itself, but elif and else do not. To get rid of the errors, we need to make sure elif and else have a preceding if:"
   ]
  },
  {
   "cell_type": "code",
   "execution_count": 5,
   "id": "2e04b7a8",
   "metadata": {},
   "outputs": [
    {
     "name": "stdout",
     "output_type": "stream",
     "text": [
      "Freezing!\n"
     ]
    }
   ],
   "source": [
    "temp = 16\n",
    "\n",
    "if temp >= 32:\n",
    "    print(\"Not freezing\")\n",
    "elif temp < 32:\n",
    "    print(\"Freezing!\")"
   ]
  },
  {
   "cell_type": "code",
   "execution_count": 6,
   "id": "de811487",
   "metadata": {},
   "outputs": [
    {
     "name": "stdout",
     "output_type": "stream",
     "text": [
      "Freezing!\n"
     ]
    }
   ],
   "source": [
    "temp = 16\n",
    "\n",
    "if temp >= 32:\n",
    "    print(\"Not freezing\")\n",
    "else:\n",
    "    print(\"Freezing!\")"
   ]
  },
  {
   "cell_type": "markdown",
   "id": "409c0e1a",
   "metadata": {},
   "source": [
    "## 34. Cannot compare different data types"
   ]
  },
  {
   "cell_type": "markdown",
   "id": "ea2353f8",
   "metadata": {},
   "source": [
    "We can run into errors like the one below if we try to use relational operators like > or < to compare values of different data types. For example, the error below tells us that the > operator is not supported between a string and an integer. In other words, Python doesn't know how to tell if a string value is greater than a numerical value -- to Python, trying to compare \"7\" to 5 is like apples and oranges (even though to us, it's pretty obvious)."
   ]
  },
  {
   "cell_type": "code",
   "execution_count": 1,
   "id": "f1720798",
   "metadata": {},
   "outputs": [
    {
     "name": "stdout",
     "output_type": "stream",
     "text": [
      "Enter a number between 1 and 5: 7\n"
     ]
    },
    {
     "ename": "TypeError",
     "evalue": "'>' not supported between instances of 'str' and 'int'",
     "output_type": "error",
     "traceback": [
      "\u001b[0;31m---------------------------------------------------------------------------\u001b[0m",
      "\u001b[0;31mTypeError\u001b[0m                                 Traceback (most recent call last)",
      "Cell \u001b[0;32mIn [1], line 3\u001b[0m\n\u001b[1;32m      1\u001b[0m num \u001b[38;5;241m=\u001b[39m \u001b[38;5;28minput\u001b[39m(\u001b[38;5;124m\"\u001b[39m\u001b[38;5;124mEnter a number between 1 and 5: \u001b[39m\u001b[38;5;124m\"\u001b[39m)\n\u001b[0;32m----> 3\u001b[0m \u001b[38;5;28;01mif\u001b[39;00m \u001b[43mnum\u001b[49m\u001b[43m \u001b[49m\u001b[38;5;241;43m>\u001b[39;49m\u001b[43m \u001b[49m\u001b[38;5;241;43m5\u001b[39;49m:\n\u001b[1;32m      4\u001b[0m     \u001b[38;5;28mprint\u001b[39m(\u001b[38;5;124m\"\u001b[39m\u001b[38;5;124mThe number may not be greater than 5\u001b[39m\u001b[38;5;124m\"\u001b[39m)\n",
      "\u001b[0;31mTypeError\u001b[0m: '>' not supported between instances of 'str' and 'int'"
     ]
    }
   ],
   "source": [
    "num = input(\"Enter a number between 1 and 5: \")\n",
    "\n",
    "if num > 5:\n",
    "    print(\"The number may not be greater than 5\")"
   ]
  },
  {
   "cell_type": "markdown",
   "id": "e414620d",
   "metadata": {},
   "source": [
    "It is easy to make this mistake when asking the user for numerical input, like in the program below. The built-in input function always returns a string, so if we want the input to be treated as a number, we have to explicitly convert the value to a numerical datatype using type conversion.\n",
    "\n",
    "Note that either of the two following solutions fix the problem:"
   ]
  },
  {
   "cell_type": "code",
   "execution_count": 4,
   "id": "f05c3561",
   "metadata": {},
   "outputs": [
    {
     "name": "stdout",
     "output_type": "stream",
     "text": [
      "Enter a number between 1 and 5: 7\n",
      "The number may not be greater than 5\n"
     ]
    }
   ],
   "source": [
    "# Solution A: Convert to numerical data type right away, and store value as a number\n",
    "\n",
    "num = float(input(\"Enter a number between 1 and 5: \"))\n",
    "\n",
    "if num > 5:\n",
    "    print(\"The number may not be greater than 5\")"
   ]
  },
  {
   "cell_type": "code",
   "execution_count": 5,
   "id": "7437fc7e",
   "metadata": {},
   "outputs": [
    {
     "name": "stdout",
     "output_type": "stream",
     "text": [
      "Enter a number between 1 and 5: 7\n",
      "The number may not be greater than 5\n"
     ]
    }
   ],
   "source": [
    "# Solution B: Convert to numerical data type only when we want it to be treated as a number (in line 5)\n",
    "\n",
    "num = input(\"Enter a number between 1 and 5: \")\n",
    "\n",
    "if float(num) > 5:\n",
    "    print(\"The number may not be greater than 5\")"
   ]
  },
  {
   "cell_type": "markdown",
   "id": "8ca4fc4e",
   "metadata": {},
   "source": [
    "## 35. Using parameter names as arguments in a function call if not yet defined in global frame"
   ]
  },
  {
   "cell_type": "markdown",
   "id": "06f308ec",
   "metadata": {},
   "source": [
    "Arguments to a function must be:\n",
    "- A) actual values (i.e. “hello”, 8, or 5.7)\n",
    "- B) variables that already exist in the global frame which hold the values to be used as arguments\n",
    "- C) expressions that evaluate to a value using a combination of A and/or B above\n",
    "\n",
    "Unless the parameter names are also names of variables defined in the global frame, they can not be used as arguments:"
   ]
  },
  {
   "cell_type": "code",
   "execution_count": 6,
   "id": "c316f78a",
   "metadata": {},
   "outputs": [
    {
     "ename": "NameError",
     "evalue": "name 'radius' is not defined",
     "output_type": "error",
     "traceback": [
      "\u001b[0;31m---------------------------------------------------------------------------\u001b[0m",
      "\u001b[0;31mNameError\u001b[0m                                 Traceback (most recent call last)",
      "Cell \u001b[0;32mIn [6], line 5\u001b[0m\n\u001b[1;32m      2\u001b[0m     area \u001b[38;5;241m=\u001b[39m radius \u001b[38;5;241m*\u001b[39m\u001b[38;5;241m*\u001b[39m \u001b[38;5;241m2\u001b[39m \u001b[38;5;241m*\u001b[39m \u001b[38;5;241m3.14\u001b[39m\n\u001b[1;32m      3\u001b[0m     \u001b[38;5;28;01mreturn\u001b[39;00m area\n\u001b[0;32m----> 5\u001b[0m area_of_circle(\u001b[43mradius\u001b[49m)\n",
      "\u001b[0;31mNameError\u001b[0m: name 'radius' is not defined"
     ]
    }
   ],
   "source": [
    "def area_of_circle(radius):\n",
    "    area = radius ** 2 * 3.14\n",
    "    return area\n",
    "\n",
    "print(area_of_circle(radius))"
   ]
  },
  {
   "cell_type": "markdown",
   "id": "d8f348d9",
   "metadata": {},
   "source": [
    "While it works to use variables defined in the global frame with the same name as parameters, this can get confusing:"
   ]
  },
  {
   "cell_type": "code",
   "execution_count": 9,
   "id": "92d834ed",
   "metadata": {},
   "outputs": [
    {
     "name": "stdout",
     "output_type": "stream",
     "text": [
      "200.96\n"
     ]
    }
   ],
   "source": [
    "radius = 8\n",
    "\n",
    "def area_of_circle(radius):\n",
    "    area = radius ** 2 * 3.14\n",
    "    return area\n",
    "\n",
    "print(area_of_circle(radius))"
   ]
  },
  {
   "cell_type": "markdown",
   "id": "15e0a264",
   "metadata": {},
   "source": [
    "In the example below, we can see that inside a function, the argument passed to the parameter takes priority over a variable of the same name in the global frame."
   ]
  },
  {
   "cell_type": "code",
   "execution_count": 12,
   "id": "5de29826",
   "metadata": {},
   "outputs": [
    {
     "name": "stdout",
     "output_type": "stream",
     "text": [
      "Value of radius in line 2: 8\n",
      "Value of radius in line 5: 20\n",
      "1256.0\n"
     ]
    }
   ],
   "source": [
    "radius = 8\n",
    "print(\"Value of radius in line 2:\", radius)\n",
    "\n",
    "def area_of_circle(radius):\n",
    "    print(\"Value of radius in line 5:\", radius)\n",
    "    area = radius ** 2 * 3.14\n",
    "    return area\n",
    "\n",
    "print(area_of_circle(20))"
   ]
  },
  {
   "cell_type": "markdown",
   "id": "312a6421",
   "metadata": {},
   "source": [
    "We usually want to avoid this confusion altogether by making sure our variable names and parameter names are unique, like this:"
   ]
  },
  {
   "cell_type": "code",
   "execution_count": 13,
   "id": "00496fc9",
   "metadata": {},
   "outputs": [
    {
     "name": "stdout",
     "output_type": "stream",
     "text": [
      "200.96\n"
     ]
    }
   ],
   "source": [
    "my_radius = 8\n",
    "\n",
    "def area_of_circle(radius):\n",
    "    area = radius ** 2 * 3.14\n",
    "    return area\n",
    "\n",
    "print(area_of_circle(my_radius))"
   ]
  },
  {
   "cell_type": "markdown",
   "id": "a0031c75",
   "metadata": {},
   "source": [
    "## 36. Unused parameters"
   ]
  },
  {
   "cell_type": "markdown",
   "id": "71abf7f9",
   "metadata": {},
   "source": [
    "While this does not necessarily result in an error message, we overcomplicate code by having parameters to a function that aren’t actually used or needed. Furthermore, our function loses its ability to adapt to different inputs. For example, in the example below, we reference variables in the global frame inside of the function instead of the function parameters. This means that any arguments originally passed to the parameters in the function call are not actually used. See below:"
   ]
  },
  {
   "cell_type": "code",
   "execution_count": 17,
   "id": "0fc6a4db",
   "metadata": {},
   "outputs": [
    {
     "name": "stdout",
     "output_type": "stream",
     "text": [
      "3.14\n"
     ]
    }
   ],
   "source": [
    "my_radius = 1\n",
    "\n",
    "def area_of_circle(radius):\n",
    "    area = my_radius ** 2 * 3.14\n",
    "    return area\n",
    "\n",
    "print(area_of_circle(100))"
   ]
  },
  {
   "cell_type": "markdown",
   "id": "b272cc4d",
   "metadata": {},
   "source": [
    "As we see above, the input value 100 is never used, since we use the global variable my_radius in the calculations inside the function. This renders having inputs at all useless, and our function only prints out one answer no matter what input we give it. Instead, we want this:"
   ]
  },
  {
   "cell_type": "code",
   "execution_count": 19,
   "id": "9d0264a3",
   "metadata": {},
   "outputs": [
    {
     "name": "stdout",
     "output_type": "stream",
     "text": [
      "31400.0\n"
     ]
    }
   ],
   "source": [
    "my_radius = 1\n",
    "some_other_radius = 100\n",
    "\n",
    "def area_of_circle(radius):\n",
    "    area = radius ** 2 * 3.14\n",
    "    return area\n",
    "\n",
    "print(area_of_circle(some_other_radius))"
   ]
  },
  {
   "cell_type": "code",
   "execution_count": null,
   "id": "19cff435",
   "metadata": {},
   "outputs": [],
   "source": []
  }
 ],
 "metadata": {
  "kernelspec": {
   "display_name": "Python 3 (ipykernel)",
   "language": "python",
   "name": "python3"
  },
  "language_info": {
   "codemirror_mode": {
    "name": "ipython",
    "version": 3
   },
   "file_extension": ".py",
   "mimetype": "text/x-python",
   "name": "python",
   "nbconvert_exporter": "python",
   "pygments_lexer": "ipython3",
   "version": "3.9.12"
  }
 },
 "nbformat": 4,
 "nbformat_minor": 5
}
