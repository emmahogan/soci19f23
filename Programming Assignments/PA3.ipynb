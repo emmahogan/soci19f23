{
 "cells": [
  {
   "cell_type": "markdown",
   "metadata": {
    "id": "EJRpUW5f-SID"
   },
   "source": [
    "\n",
    "# Programming Assignment 3\n",
    "---\n",
    "\n",
    "Name:\n",
    "\n",
    "Group Members:"
   ]
  },
  {
   "cell_type": "markdown",
   "metadata": {
    "id": "GoPjFZextUjp"
   },
   "source": [
    "**If hand-writing code, please hand-write on a separate piece of paper.**"
   ]
  },
  {
   "cell_type": "markdown",
   "metadata": {
    "id": "2VrZ0tuXDKp-"
   },
   "source": [
    "# **Problem 1**: Textual Analysis"
   ]
  },
  {
   "cell_type": "markdown",
   "metadata": {
    "id": "w3bqpDq5-rcK"
   },
   "source": [
    "**Objective:** In this assignment, you will practice working with textual data in python (strings and their built-in methods) in a hypothetical research scenario gaging public opinion on a specific topic. You will choose a research topic, formulate a question, and collect responses from three individuals. Then, you will write a function to compute the mean occurrence of specific keywords in those responses, and report your results in a meaningful way.\n",
    "\n",
    "**Instructions:**\n",
    "\n",
    "1. Choose a specific topic for your research. It could be a controversial issue, a popular trend, or any topic of interest.\n",
    "\n",
    "2. Define a research question related to the chosen topic, and **print** this question at the top of your program. For example:\n",
    "   - Topic: Climate Change\n",
    "   - Question: \"What concerns do you have about climate change?\"\n",
    "   \n",
    "   Questions should be open-ended (not yes or no questions) in order to prompt richer responses.\n",
    "\n",
    "3. Collect open-ended responses from three individuals (these can be peers or other individuals). Define three separate variables in your program, `response1`, `response2`, `response3`, which hold these responses as strings.\n",
    "\n",
    "4. Write a Python function called `compute_mean_occurrence` that takes four parameters:\n",
    "   - `text1` (the first response as a string)\n",
    "   - `text2` (the second response as a string)\n",
    "   - `text3` (the third response as a string)\n",
    "   - `keyword` (the keyword you want to calculate the mean occurrence for)\n",
    "\n",
    "   Inside the function, use string built-in methods to count how many times the `keyword` appears total accross all three responses. Then, calculate the mean occurrence of this keyword by dividing the total count by 3 (the number of responses). The function should return the mean occurrence of the keyword as a float.\n",
    "\n",
    "5. Based on the responses, come up with two keywords related to your question. If possible, try coming up with keywords that represent two sides of an issue. Outside of the function, call the `compute_mean_occurrence` function twice: once for each of the two keywords related to your chosen topic, and store the resulting values in separate variables.\n",
    "\n",
    "6. Print the resulting mean occurences for the two keywords. (Note: If desired, we can use the round() built-in function to round a float value to a certain number of decimal places as desired for cleaner looking output).\n",
    "\n",
    "7. OPTIONAL CHALLENGE: Use conditional statements to compare the mean occurrences of the two keywords and report the resulting difference between their mean occurences. For example, you can print a message like \"Keyword1 was used on average 1.6 more times than Keyword2\" if `keyword1` has a higher mean occurrence, or vice versa. If the keywords were used an equal number of times, another appropriate message should be printed.\n",
    "\n",
    "**Sample Output:**\n",
    "\n",
    "Here's a sample output for this assignment based on a hypothetical topic of \"Climate Change\" and the research question: \"What concerns do you have about climate change?\" Example collected responses stored as variables at the top of the program are as follows:\n",
    "\n",
    "```python\n",
    "# Responses from three individuals\n",
    "response1 = \"I'm deeply concerned about the increasing frequency and severity of extreme weather events due to climate change. We need to take immediate action to reduce carbon emissions and transition to clean energy sources to protect our environment and future generations.\"\n",
    "response2 = \"I have doubts about the extent of human impact on climate change. I'm more concerned about the economic consequences of aggressive climate policies, which could lead to job losses and higher energy costs. We should prioritize economic stability.\"\n",
    "response3 = \"While I acknowledge the reality of climate change, my concern is focused on how we can adapt to the changes that are already happening. We need to invest in resilient infrastructure and community preparedness to mitigate the impacts of rising sea levels and extreme weather events.\"\n",
    "```\n",
    "If the keywords chosen were `\"extreme weather\"` and `\"cost\"`, the output would be as follows:\n",
    "\n",
    "```python\n",
    "Mean number of occurences of keyword extreme weather: 0.66\n",
    "Mean number of occurences of keyword cost: 0.33\n",
    "    \n",
    "```\n",
    "\n",
    "The additional output resulting from the optional challenge would be:\n",
    "\n",
    "```python\n",
    "extreme weather was used on average 0.33 times more than cost.\n",
    "```"
   ]
  },
  {
   "cell_type": "markdown",
   "metadata": {
    "id": "dzZZJyuRDTPN"
   },
   "source": [
    "# **Problem 2**: Individual Portion"
   ]
  },
  {
   "cell_type": "markdown",
   "metadata": {
    "id": "1MB-uQgtDjQN"
   },
   "source": [
    "Think of your own example of something that could be translated into a Python program. The program must incorporate:\n",
    "\n",
    "- input()\n",
    "- indexing\n",
    "- **at least three different** built-in string methods\n",
    "\n",
    "There are no specific length requirements for your program, and you are free to make it as long or simple as you wish as long as the program fulfills each of the requirements above.\n",
    "\n",
    "**Note:** While the other questions in this assignment can be completed in groups, this question **must be completed individually**. You can talk about ideas for the program at a high-level with classmates, but your code needs to be your own."
   ]
  },
  {
   "cell_type": "markdown",
   "metadata": {
    "id": "-W1_pRI48fi-"
   },
   "source": [
    "## Part A: Program Description"
   ]
  },
  {
   "cell_type": "markdown",
   "metadata": {
    "id": "S4qeu2LDA0vy"
   },
   "source": [
    "Write a description of your program that answers the following questions:\n",
    "\n",
    "*   What is the purpose of your program?\n",
    "*   Who would use your program?\n",
    "*   How would your program potentially increase efficiency, improve lives, or solve a problem in some way?\n",
    "\n"
   ]
  },
  {
   "cell_type": "markdown",
   "metadata": {
    "id": "7zgC5H70DFSo"
   },
   "source": [
    "## Part B: Test Cases"
   ]
  },
  {
   "cell_type": "markdown",
   "metadata": {
    "id": "XT8AZX_aDADa"
   },
   "source": [
    "When writing a program, we use test cases to show that our program works as expected. These follow the basic structure of \"given this input, we expect this output\".\n",
    "\n",
    "Below, list at least three test cases with input values (what the user would type when prompted for **each** input statement in your program), and the expected output (what would be printed)."
   ]
  },
  {
   "cell_type": "markdown",
   "metadata": {
    "id": "NEDP1i-tEfIY"
   },
   "source": [
    "## Part C: Program"
   ]
  },
  {
   "cell_type": "markdown",
   "metadata": {
    "id": "TTYLmRexEjbh"
   },
   "source": [
    "Write your program code below or on a separate sheet of paper."
   ]
  }
 ],
 "metadata": {
  "colab": {
   "provenance": []
  },
  "kernelspec": {
   "display_name": "Python 3 (ipykernel)",
   "language": "python",
   "name": "python3"
  },
  "language_info": {
   "codemirror_mode": {
    "name": "ipython",
    "version": 3
   },
   "file_extension": ".py",
   "mimetype": "text/x-python",
   "name": "python",
   "nbconvert_exporter": "python",
   "pygments_lexer": "ipython3",
   "version": "3.9.12"
  }
 },
 "nbformat": 4,
 "nbformat_minor": 1
}
