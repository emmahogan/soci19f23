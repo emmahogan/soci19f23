{
 "cells": [
  {
   "cell_type": "markdown",
   "metadata": {
    "id": "EJRpUW5f-SID"
   },
   "source": [
    "\n",
    "# Programming Assignment 1\n",
    "---\n",
    "\n",
    "Name:\n",
    "\n",
    "Group Members:"
   ]
  },
  {
   "cell_type": "markdown",
   "metadata": {
    "id": "2VrZ0tuXDKp-"
   },
   "source": [
    "# **Problem 1**: Digitizing the Staff and Volunteer Log (Groupwork Optional)"
   ]
  },
  {
   "cell_type": "markdown",
   "metadata": {
    "id": "w3bqpDq5-rcK"
   },
   "source": [
    "In this problem, you will write a Python program that could replace the manual sign in process on paper when outside staff (like me) or volunteers enter a housing unit in the prison. We break this down into three parts below:\n",
    "\n",
    "\n",
    "> A.   Gather person's relevant information to sign in (their name, intended location, and time of signing in)\n",
    ">\n",
    "> B.   Document the person's time of signing out\n",
    ">\n",
    "> C.   Summarize this data about the person's time in the housing unit in a useful way, and print this information (who was it, where in the housing unit, for how long)\n",
    "\n"
   ]
  },
  {
   "cell_type": "markdown",
   "metadata": {
    "id": "ZIMkOSnO_1ky"
   },
   "source": [
    "## Part A: Sign In"
   ]
  },
  {
   "cell_type": "markdown",
   "metadata": {
    "id": "FDz_bAgGaXPU"
   },
   "source": [
    "When coming into the housing unit for lecture, I \"sign in\" at the front desk station manually on paper. The sheet asks me for my name, the time, and the location in the housing unit where I'll be going.\n",
    "\n",
    "Suppose the prison decides to switch to a system where some computer device or tablet is set up at the desk instead of the booklet. We can write a simple program that asks for this same information from a user, and stores it in variables as opposed to having it written on paper.\n",
    "\n",
    "For each of the three pieces of information needed to sign in (name, time, and location in housing unit). Notice that time is usually written as the hour and minute separated by a colon (for example, 5:42). To make things simpler later, ask the user to first input the hour (in this case, the user would input 5), and then separately ask the user to input the minute (in this case, 42). Therefore, we are asking the user for and storing four pieces of information: their name, the hour, the minute, and the location.\n",
    "\n",
    "Write some code to prompt the user to enter this information and store it in variables."
   ]
  },
  {
   "cell_type": "code",
   "execution_count": null,
   "metadata": {
    "colab": {
     "base_uri": "https://localhost:8080/"
    },
    "executionInfo": {
     "elapsed": 17916,
     "status": "ok",
     "timestamp": 1695926742969,
     "user": {
      "displayName": "Emma Hogan",
      "userId": "01801971208236504264"
     },
     "user_tz": 240
    },
    "id": "FgzEc0NZbSyS",
    "outputId": "e82b0b3c-ca11-423e-f996-5af6b6a59792"
   },
   "outputs": [
    {
     "name": "stdout",
     "output_type": "stream",
     "text": [
      "Name: Hogan\n",
      "Hour In: 2\n",
      "Minute In: 35\n",
      "Location in Housing Unit: F112\n"
     ]
    }
   ],
   "source": []
  },
  {
   "cell_type": "markdown",
   "metadata": {
    "id": "_hkcdsI9AB50"
   },
   "source": [
    "## Part B: Sign Out"
   ]
  },
  {
   "cell_type": "markdown",
   "metadata": {
    "id": "1utvJC-AeAdS"
   },
   "source": [
    "Similarly, when leaving the housing unit after lecture, I am asked to write the time that I left.\n",
    "\n",
    "Write some additional code that asks the user for the time that they left (similar to in Part 1, asking for the hour and minute separately), and stores it in variables."
   ]
  },
  {
   "cell_type": "code",
   "execution_count": null,
   "metadata": {
    "colab": {
     "base_uri": "https://localhost:8080/"
    },
    "executionInfo": {
     "elapsed": 7307,
     "status": "ok",
     "timestamp": 1695926750267,
     "user": {
      "displayName": "Emma Hogan",
      "userId": "01801971208236504264"
     },
     "user_tz": 240
    },
    "id": "k7mkILdEepVc",
    "outputId": "6537f979-5d04-468e-9231-39acb3c406eb"
   },
   "outputs": [
    {
     "name": "stdout",
     "output_type": "stream",
     "text": [
      "Hour: 6\n",
      "Minute: 03\n"
     ]
    }
   ],
   "source": []
  },
  {
   "cell_type": "markdown",
   "metadata": {
    "id": "bRd2xGzZAEym"
   },
   "source": [
    "## Part C: Summarize Data"
   ]
  },
  {
   "cell_type": "markdown",
   "metadata": {
    "id": "HWAX7Eprepsl"
   },
   "source": [
    "Finally, print a message to the screen that summarizes the data you collected above with the following information: The person's name, their location in the housing unit, and the **amount of time** spent there.\n",
    "\n",
    "For example, if I had responded to the prompts with the name \"Hogan\", location \"F112\", hour of sign in \"14\", minute of sign in \"45\", hour of sign out \"18\", and minute of sign out \"00\", the program would print the following:\n",
    "\n",
    "\"Hogan was in F112 for 195 minutes\""
   ]
  },
  {
   "cell_type": "code",
   "execution_count": null,
   "metadata": {
    "colab": {
     "base_uri": "https://localhost:8080/"
    },
    "executionInfo": {
     "elapsed": 8,
     "status": "ok",
     "timestamp": 1695926750267,
     "user": {
      "displayName": "Emma Hogan",
      "userId": "01801971208236504264"
     },
     "user_tz": 240
    },
    "id": "eu104uTfe0qQ",
    "outputId": "4188e4d0-ced4-4829-ae2e-3401704a4d4e"
   },
   "outputs": [
    {
     "name": "stdout",
     "output_type": "stream",
     "text": [
      "Hogan visited F112 for 208 minutes.\n",
      "Hogan visited F112 for 208 minutes.\n"
     ]
    }
   ],
   "source": []
  },
  {
   "cell_type": "markdown",
   "metadata": {
    "id": "dzZZJyuRDTPN"
   },
   "source": [
    "# **Problem 2**: Individual Portion"
   ]
  },
  {
   "cell_type": "markdown",
   "metadata": {
    "id": "1MB-uQgtDjQN"
   },
   "source": [
    "Think of your own example of some process that could be translated into a Python program. The program must incorporate **at least one** use of each of the following:\n",
    "\n",
    "*   input()\n",
    "\n",
    "*   print()\n",
    "\n",
    "*   variable declaration\n",
    "\n",
    "*   String value\n",
    "\n",
    "*   int and/or float value\n",
    "\n",
    "*   type conversion\n",
    "\n",
    "There are no specific length requirements for your program, and you are free to make it as long or simple as you wish as long as the program fulfills each of the requirements above.\n",
    "\n",
    "**Note:** While the other questions in this assignment can be completed in groups, this question **must be completed individually**. You can talk about ideas for the program at a high-level with classmates, but your code needs to be your own."
   ]
  },
  {
   "cell_type": "markdown",
   "metadata": {
    "id": "-W1_pRI48fi-"
   },
   "source": [
    "## Part A: Program Description"
   ]
  },
  {
   "cell_type": "markdown",
   "metadata": {
    "id": "S4qeu2LDA0vy"
   },
   "source": [
    "Write a description of your program that answers the following questions:\n",
    "\n",
    "*   What is the purpose of your program?\n",
    "*   Who would use your program?\n",
    "*   How would your program potentially increase efficiency, improve lives, or solve a problem in some way?\n",
    "\n"
   ]
  },
  {
   "cell_type": "markdown",
   "metadata": {
    "id": "7zgC5H70DFSo"
   },
   "source": [
    "## Part B: Test Cases"
   ]
  },
  {
   "cell_type": "markdown",
   "metadata": {
    "id": "XT8AZX_aDADa"
   },
   "source": [
    "When writing a program, we use test cases to show that our program works as expected. These follow the basic structure of \"given this input, we expect this output\".\n",
    "\n",
    "Below, list at least three test cases with input values (what the user would type when prompted for **each** input statement in your program), and the expected output (what would be printed)."
   ]
  },
  {
   "cell_type": "markdown",
   "metadata": {
    "id": "NEDP1i-tEfIY"
   },
   "source": [
    "## Part C: Program"
   ]
  },
  {
   "cell_type": "markdown",
   "metadata": {
    "id": "TTYLmRexEjbh"
   },
   "source": [
    "Write your program below."
   ]
  },
  {
   "cell_type": "code",
   "execution_count": null,
   "metadata": {
    "id": "8-7ihZalGlqd"
   },
   "outputs": [],
   "source": []
  }
 ],
 "metadata": {
  "colab": {
   "authorship_tag": "ABX9TyOvyaTp6FLueoUI/SWHcxEG",
   "provenance": []
  },
  "kernelspec": {
   "display_name": "Python 3 (ipykernel)",
   "language": "python",
   "name": "python3"
  },
  "language_info": {
   "codemirror_mode": {
    "name": "ipython",
    "version": 3
   },
   "file_extension": ".py",
   "mimetype": "text/x-python",
   "name": "python",
   "nbconvert_exporter": "python",
   "pygments_lexer": "ipython3",
   "version": "3.9.12"
  }
 },
 "nbformat": 4,
 "nbformat_minor": 1
}
